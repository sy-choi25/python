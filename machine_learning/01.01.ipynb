{
 "cells": [
  {
   "cell_type": "code",
   "execution_count": null,
   "id": "d6a8332b",
   "metadata": {},
   "outputs": [],
   "source": [
    "# 데이터 전처리\n",
    "    # 결측치 : 제거하거나 대처(평균, 중위수, 주변데이터 이용... 등)\n",
    "    # 클래스가 불균형 : 오버샘플링, 다운샘플링 , SMOTEEN\n",
    "# 데이터 특성공학 : 연속형 데이터 -> 범주형 데이터, 시간정보는 1시에서 2시에서 변할 떄와 23시에서 0시로 변할 떄의 차이를 공간정보로 바꿔주는 것 등\\\n",
    "    # 범주형을 숫자 숫자 사이에 연관성이 있으면 이것도 학습이 되기 때문에 \n",
    "    # 연관성이 없이 전혀 없는 범주형 라벨링 - onehot\n",
    "    # 범주형이지만 순서나 크기가 있는 범주형 라벨링 그대로 유지\n",
    "# 머신러닝\n",
    "\n",
    "# 지도학습\n",
    "    # 회귀\n",
    "        # linearRegression\n",
    "    # 분류\n",
    "        # SVM, Kneighbors, decisionTreeS\n",
    "# 비지도 학습\n",
    "    # 클러스터\n",
    "        # k_means, dbscan"
   ]
  }
 ],
 "metadata": {
  "language_info": {
   "name": "python"
  }
 },
 "nbformat": 4,
 "nbformat_minor": 5
}
