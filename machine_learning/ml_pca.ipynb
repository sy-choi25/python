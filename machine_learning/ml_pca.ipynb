{
 "cells": [
  {
   "cell_type": "markdown",
   "id": "a2bdaacb",
   "metadata": {},
   "source": [
    "## PCA(Principle Componet Analysis) - 주성분 분석 ##\n",
    "\n",
    "- #### 여러개의 변수(특성 Feature) 대표할 수 있는 주성분이라는 새로운 변수를 만듦  \n",
    "- #### 여러개의 3D 이미지(공간)를 잘 설명할 수 있는 2D이미지(그림자)를 찾는다.\n"
   ]
  },
  {
   "cell_type": "markdown",
   "id": "06a9bc40",
   "metadata": {},
   "source": [
    "##### 1단계: 데이터 표준화(Standaridization)\n",
    "각 변수의 평균을 0, 분산을 1로 만들어서 모든 데이터가 동일한 스케일    \n",
    "키(3자리)와 몸무게(2자리)"
   ]
  },
  {
   "cell_type": "code",
   "execution_count": 35,
   "id": "4f43555a",
   "metadata": {},
   "outputs": [
    {
     "name": "stdout",
     "output_type": "stream",
     "text": [
      "3 channel Terms of Service accepted\n",
      "Channels:\n",
      " - defaults\n",
      "Platform: win-64\n",
      "Collecting package metadata (repodata.json): done\n",
      "Solving environment: done\n",
      "\n",
      "# All requested packages already installed.\n",
      "\n",
      "\n",
      "Note: you may need to restart the kernel to use updated packages.\n"
     ]
    }
   ],
   "source": [
    "%conda install pandas scikit-learn matplotlib seaborn numpy"
   ]
  },
  {
   "cell_type": "code",
   "execution_count": 37,
   "id": "7263f952",
   "metadata": {},
   "outputs": [
    {
     "name": "stdout",
     "output_type": "stream",
     "text": [
      "3 channel Terms of Service accepted\n",
      "Channels:\n",
      " - defaults\n",
      "Platform: win-64\n",
      "Collecting package metadata (repodata.json): done\n",
      "Solving environment: done\n",
      "\n",
      "# All requested packages already installed.\n",
      "\n",
      "\n",
      "Note: you may need to restart the kernel to use updated packages.\n"
     ]
    }
   ],
   "source": [
    "%conda update -n base -c defaults conda"
   ]
  },
  {
   "cell_type": "code",
   "execution_count": 1,
   "id": "b1b92147",
   "metadata": {},
   "outputs": [],
   "source": [
    "import pandas as pd\n",
    "from sklearn.preprocessing import StandardScaler\n",
    "from sklearn.decomposition import PCA\n",
    "import matplotlib.pyplot as plt\n",
    "import seaborn as sns"
   ]
  },
  {
   "cell_type": "code",
   "execution_count": 2,
   "id": "3f184595",
   "metadata": {},
   "outputs": [
    {
     "data": {
      "text/html": [
       "<div>\n",
       "<style scoped>\n",
       "    .dataframe tbody tr th:only-of-type {\n",
       "        vertical-align: middle;\n",
       "    }\n",
       "\n",
       "    .dataframe tbody tr th {\n",
       "        vertical-align: top;\n",
       "    }\n",
       "\n",
       "    .dataframe thead th {\n",
       "        text-align: right;\n",
       "    }\n",
       "</style>\n",
       "<table border=\"1\" class=\"dataframe\">\n",
       "  <thead>\n",
       "    <tr style=\"text-align: right;\">\n",
       "      <th></th>\n",
       "      <th>sepal length (cm)</th>\n",
       "      <th>sepal width (cm)</th>\n",
       "      <th>petal length (cm)</th>\n",
       "      <th>petal width (cm)</th>\n",
       "      <th>target</th>\n",
       "    </tr>\n",
       "  </thead>\n",
       "  <tbody>\n",
       "    <tr>\n",
       "      <th>0</th>\n",
       "      <td>5.1</td>\n",
       "      <td>3.5</td>\n",
       "      <td>1.4</td>\n",
       "      <td>0.2</td>\n",
       "      <td>0</td>\n",
       "    </tr>\n",
       "    <tr>\n",
       "      <th>1</th>\n",
       "      <td>4.9</td>\n",
       "      <td>3.0</td>\n",
       "      <td>1.4</td>\n",
       "      <td>0.2</td>\n",
       "      <td>0</td>\n",
       "    </tr>\n",
       "    <tr>\n",
       "      <th>2</th>\n",
       "      <td>4.7</td>\n",
       "      <td>3.2</td>\n",
       "      <td>1.3</td>\n",
       "      <td>0.2</td>\n",
       "      <td>0</td>\n",
       "    </tr>\n",
       "    <tr>\n",
       "      <th>3</th>\n",
       "      <td>4.6</td>\n",
       "      <td>3.1</td>\n",
       "      <td>1.5</td>\n",
       "      <td>0.2</td>\n",
       "      <td>0</td>\n",
       "    </tr>\n",
       "    <tr>\n",
       "      <th>4</th>\n",
       "      <td>5.0</td>\n",
       "      <td>3.6</td>\n",
       "      <td>1.4</td>\n",
       "      <td>0.2</td>\n",
       "      <td>0</td>\n",
       "    </tr>\n",
       "    <tr>\n",
       "      <th>...</th>\n",
       "      <td>...</td>\n",
       "      <td>...</td>\n",
       "      <td>...</td>\n",
       "      <td>...</td>\n",
       "      <td>...</td>\n",
       "    </tr>\n",
       "    <tr>\n",
       "      <th>145</th>\n",
       "      <td>6.7</td>\n",
       "      <td>3.0</td>\n",
       "      <td>5.2</td>\n",
       "      <td>2.3</td>\n",
       "      <td>2</td>\n",
       "    </tr>\n",
       "    <tr>\n",
       "      <th>146</th>\n",
       "      <td>6.3</td>\n",
       "      <td>2.5</td>\n",
       "      <td>5.0</td>\n",
       "      <td>1.9</td>\n",
       "      <td>2</td>\n",
       "    </tr>\n",
       "    <tr>\n",
       "      <th>147</th>\n",
       "      <td>6.5</td>\n",
       "      <td>3.0</td>\n",
       "      <td>5.2</td>\n",
       "      <td>2.0</td>\n",
       "      <td>2</td>\n",
       "    </tr>\n",
       "    <tr>\n",
       "      <th>148</th>\n",
       "      <td>6.2</td>\n",
       "      <td>3.4</td>\n",
       "      <td>5.4</td>\n",
       "      <td>2.3</td>\n",
       "      <td>2</td>\n",
       "    </tr>\n",
       "    <tr>\n",
       "      <th>149</th>\n",
       "      <td>5.9</td>\n",
       "      <td>3.0</td>\n",
       "      <td>5.1</td>\n",
       "      <td>1.8</td>\n",
       "      <td>2</td>\n",
       "    </tr>\n",
       "  </tbody>\n",
       "</table>\n",
       "<p>150 rows × 5 columns</p>\n",
       "</div>"
      ],
      "text/plain": [
       "     sepal length (cm)  sepal width (cm)  petal length (cm)  petal width (cm)  \\\n",
       "0                  5.1               3.5                1.4               0.2   \n",
       "1                  4.9               3.0                1.4               0.2   \n",
       "2                  4.7               3.2                1.3               0.2   \n",
       "3                  4.6               3.1                1.5               0.2   \n",
       "4                  5.0               3.6                1.4               0.2   \n",
       "..                 ...               ...                ...               ...   \n",
       "145                6.7               3.0                5.2               2.3   \n",
       "146                6.3               2.5                5.0               1.9   \n",
       "147                6.5               3.0                5.2               2.0   \n",
       "148                6.2               3.4                5.4               2.3   \n",
       "149                5.9               3.0                5.1               1.8   \n",
       "\n",
       "     target  \n",
       "0         0  \n",
       "1         0  \n",
       "2         0  \n",
       "3         0  \n",
       "4         0  \n",
       "..      ...  \n",
       "145       2  \n",
       "146       2  \n",
       "147       2  \n",
       "148       2  \n",
       "149       2  \n",
       "\n",
       "[150 rows x 5 columns]"
      ]
     },
     "execution_count": 2,
     "metadata": {},
     "output_type": "execute_result"
    }
   ],
   "source": [
    "# 예제데이터 붓꽃\n",
    "from sklearn.datasets import load_iris\n",
    "iris = load_iris(as_frame=True)\n",
    "df = iris.data\n",
    "df['target'] = iris.target\n",
    "df"
   ]
  },
  {
   "cell_type": "code",
   "execution_count": null,
   "id": "7a2f31a4",
   "metadata": {},
   "outputs": [
    {
     "data": {
      "text/plain": [
       "array([[-0.90068117,  1.01900435, -1.34022653, -1.3154443 ],\n",
       "       [-1.14301691, -0.13197948, -1.34022653, -1.3154443 ],\n",
       "       [-1.38535265,  0.32841405, -1.39706395, -1.3154443 ],\n",
       "       [-1.50652052,  0.09821729, -1.2833891 , -1.3154443 ],\n",
       "       [-1.02184904,  1.24920112, -1.34022653, -1.3154443 ]])"
      ]
     },
     "execution_count": 5,
     "metadata": {},
     "output_type": "execute_result"
    }
   ],
   "source": [
    "X = df.loc[:,:\"petal width (cm)\"].values\n",
    "# 표준화 진행\n",
    "X_scaled = StandardScaler().fit_transform(X)\n",
    "X_scaled[:5]"
   ]
  },
  {
   "cell_type": "markdown",
   "id": "44adb437",
   "metadata": {},
   "source": [
    "#### 2단계 : 공분산 행렬 계산(covariance Matrix)\n",
    "공분산 : 두 변수가 함께 어떻게 변하는지를 나타내는 값\n",
    "양수 : 한변수가 증가할때 같이 증가\n",
    "음수 : 반대\n",
    "공분산 행렬 : 모든 변수 쌍들의 공분산을 행렬로 정리한 것 -> 이 행렬을 통해서 데이터가 어떤 방향으로 퍼져갈 수 있음"
   ]
  },
  {
   "cell_type": "markdown",
   "id": "2332c35c",
   "metadata": {},
   "source": [
    "#### 3단계  고유값과 고유벡터 계산\n",
    "\n",
    "공분산 행렬을 이용해서 고유값 고유벡터 찾는다\n",
    "고유벡터: 데이터가 어떤 방향으로 가장 크게 분산(퍼져있는 정도)되어 있는지를 나타내는 방향 벡터. 이 뱡향이 새로운 축 즉 주성분\n",
    "고유값 : 해당 고유벡터 방향으로 데이터가 얼마나 많이 퍼져있는지를 나타내는 힘의 크기, 이 값이 크면 그 방향이 데이터를 더 많이 설명한다느 의미\n",
    "\n",
    "pca 고유값의 크기 순서에 따라서 제 1주성분(PC1), 제 2 주성분(PC2) 등\n",
    "PC1 데이터를 가장 잘 설명하는 축이고, PC2는 PC1과 직각을 이루면서 그 다음으로 데이터를 잘 표현"
   ]
  },
  {
   "cell_type": "markdown",
   "id": "4871401d",
   "metadata": {},
   "source": [
    "#### 4단계 : 주성분 결정 및 데이터 변환\n",
    "계산된 고유벡터 축에 원래 데이터를 투영(projection)하여 차원을 축소함\n",
    "붓꽃은 4개 특성을 2개의 주성분(2차원)으로 변환해서 시각화"
   ]
  },
  {
   "cell_type": "code",
   "execution_count": 24,
   "id": "6555d37c",
   "metadata": {},
   "outputs": [
    {
     "name": "stdout",
     "output_type": "stream",
     "text": [
      "[0.72962445 0.22850762]\n"
     ]
    },
    {
     "data": {
      "image/png": "[encoded data removed]",
      "text/plain": [
       "<Figure size 640x480 with 1 Axes>"
      ]
     },
     "metadata": {},
     "output_type": "display_data"
    }
   ],
   "source": [
    "# 2 3 4 단계 : PCA 수행 및 데이터 변환\n",
    "pca = PCA(n_components=2)\n",
    "pricipleComponents = pca.fit_transform(X_scaled)\n",
    "X_scaled\n",
    "# 주성분 분석 결과를 DataFrame으로 변환\n",
    "pc_df = pd.DataFrame(data = pricipleComponents,columns=['PC1','PC2'])\n",
    "pc_df['target'] = df.target\n",
    "pc_df.head()\n",
    "\n",
    "# 각 주성분이 설명하는 분산의 양(고유값의 중요도) \n",
    "print(pca.explained_variance_ratio_)  # 주성분 두개 만으로도 전체대비 95.7% 설명\n",
    "\n",
    "# 시각화\n",
    "sns.scatterplot(data=pc_df, x = 'PC1', y='PC2', hue ='target', alpha =0.8, palette='deep')\n",
    "plt.show()"
   ]
  },
  {
   "cell_type": "code",
   "execution_count": null,
   "id": "b556dd4b",
   "metadata": {},
   "outputs": [
    {
     "name": "stdout",
     "output_type": "stream",
     "text": [
      "non pca train score : 0.9224312716434434\n",
      "non pca train score : 0.4289500124765706\n",
      " pca train score : 0.42417122137744234\n",
      " pca train score : 0.31069440345457033\n"
     ]
    }
   ],
   "source": [
    "from sklearn import datasets\n",
    "from sklearn.ensemble import RandomForestRegressor\n",
    "# 데이터셋  예측\n",
    "diabetes = datasets.load_diabetes(as_frame=True)\n",
    "X = diabetes.data\n",
    "y = diabetes.target\n",
    "from sklearn.preprocessing import StandardScaler\n",
    "from sklearn.model_selection import train_test_split\n",
    "# 1. 적절한 데이터 전처리\n",
    "X_scaled = StandardScaler().fit_transform(X)\n",
    "x_train,x_test,y_train,y_test = train_test_split(X_scaled,y,test_size=0.2,random_state=42)\n",
    "rfr = RandomForestRegressor(max_depth=3)\n",
    "rfr.fit(x_train,y_train)\n",
    "# 2 모델을 적용해서 score 를 확인\n",
    "print(f'non pca train score : {rfr.score(x_train,y_train)}')\n",
    "print(f'non pca train score : {rfr.score(x_test,y_test)}')\n",
    "##############################################################\n",
    "# 1. 적절한 데이터 전처리데이터를 가지고 PCA로 주성분을 적당한 개수로 설정해서 데이터를 변환해서\n",
    "from sklearn.decomposition import PCA\n",
    "pca = PCA(n_components=2,random_state=42)\n",
    "x_train_pca = pca.fit_transform(x_train)\n",
    "x_test_pca = pca.transform(x_test)\n",
    "rfr = RandomForestRegressor(max_depth=3)\n",
    "rfr.fit(x_train_pca, y_train)\n",
    "# 2 모델을 적용해서 score 를 확인\n",
    "print(f' pca train score : {rfr.score(x_train_pca,y_train)}')\n",
    "print(f' pca train score : {rfr.score(x_test_pca,y_test)}')"
   ]
  },
  {
   "cell_type": "code",
   "execution_count": 100,
   "id": "eec6f4ea",
   "metadata": {},
   "outputs": [
    {
     "data": {
      "text/plain": [
       "np.float64(-2.511816797794472e-19)"
      ]
     },
     "execution_count": 100,
     "metadata": {},
     "output_type": "execute_result"
    }
   ],
   "source": [
    "X.age.mean()"
   ]
  },
  {
   "cell_type": "code",
   "execution_count": 116,
   "id": "8d54a372",
   "metadata": {},
   "outputs": [
    {
     "name": "stderr",
     "output_type": "stream",
     "text": [
      "c:\\Users\\SAMSUNG\\anaconda3\\envs\\deep\\Lib\\site-packages\\sklearn\\model_selection\\_validation.py:516: FitFailedWarning: \n",
      "200 fits failed out of a total of 800.\n",
      "The score on these train-test partitions for these parameters will be set to nan.\n",
      "If these failures are not expected, you can try to debug them by setting error_score='raise'.\n",
      "\n",
      "Below are more details about the failures:\n",
      "--------------------------------------------------------------------------------\n",
      "200 fits failed with the following error:\n",
      "Traceback (most recent call last):\n",
      "  File \"c:\\Users\\SAMSUNG\\anaconda3\\envs\\deep\\Lib\\site-packages\\sklearn\\model_selection\\_validation.py\", line 859, in _fit_and_score\n",
      "    estimator.fit(X_train, y_train, **fit_params)\n",
      "  File \"c:\\Users\\SAMSUNG\\anaconda3\\envs\\deep\\Lib\\site-packages\\sklearn\\base.py\", line 1358, in wrapper\n",
      "    estimator._validate_params()\n",
      "  File \"c:\\Users\\SAMSUNG\\anaconda3\\envs\\deep\\Lib\\site-packages\\sklearn\\base.py\", line 471, in _validate_params\n",
      "    validate_parameter_constraints(\n",
      "  File \"c:\\Users\\SAMSUNG\\anaconda3\\envs\\deep\\Lib\\site-packages\\sklearn\\utils\\_param_validation.py\", line 98, in validate_parameter_constraints\n",
      "    raise InvalidParameterError(\n",
      "sklearn.utils._param_validation.InvalidParameterError: The 'min_samples_split' parameter of RandomForestRegressor must be an int in the range [2, inf) or a float in the range (0.0, 1.0]. Got 1 instead.\n",
      "\n",
      "  warnings.warn(some_fits_failed_message, FitFailedWarning)\n",
      "c:\\Users\\SAMSUNG\\anaconda3\\envs\\deep\\Lib\\site-packages\\sklearn\\model_selection\\_search.py:1135: UserWarning: One or more of the test scores are non-finite: [       nan 0.41850882 0.41962875 0.41820345        nan 0.41969175\n",
      " 0.41240391 0.41855607        nan 0.41546046 0.4144082  0.41870382\n",
      "        nan 0.41545091 0.41035909 0.41451823        nan 0.4156815\n",
      " 0.41946484 0.41679974        nan 0.41570229 0.41414124 0.41341221\n",
      "        nan 0.41536641 0.41437255 0.41703477        nan 0.41510652\n",
      " 0.41031246 0.419535          nan 0.43756349 0.42879575 0.42898322\n",
      "        nan 0.42324005 0.42773747 0.42877277        nan 0.42892728\n",
      " 0.43412066 0.42166855        nan 0.43406562 0.42471198 0.432092\n",
      "        nan 0.4183966  0.42350487 0.42534378        nan 0.42311921\n",
      " 0.42642577 0.42256764        nan 0.43078041 0.43103837 0.43193801\n",
      "        nan 0.42921654 0.42720115 0.42587788        nan 0.41779452\n",
      " 0.42594664 0.42988149        nan 0.42458849 0.42262269 0.41527337\n",
      "        nan 0.43205524 0.43602051 0.44317465        nan 0.43632935\n",
      " 0.42604814 0.43372741        nan 0.41962634 0.42326667 0.42053634\n",
      "        nan 0.41907277 0.43452518 0.42668066        nan 0.4303812\n",
      " 0.4305791  0.4358441         nan 0.43571373 0.42732329 0.43559263\n",
      "        nan 0.41874897 0.43353065 0.42542462        nan 0.42855124\n",
      " 0.43425956 0.41539417        nan 0.43204299 0.43354012 0.42957508\n",
      "        nan 0.42053157 0.43120356 0.4273791         nan 0.41374575\n",
      " 0.42061109 0.42334827        nan 0.43181227 0.42503184 0.42357028\n",
      "        nan 0.42812057 0.4360467  0.43605886        nan 0.42232784\n",
      " 0.43550698 0.43709753        nan 0.41226021 0.4242065  0.42059039\n",
      "        nan 0.42600177 0.42051721 0.4311105         nan 0.43085594\n",
      " 0.4226486  0.42867034        nan 0.43081194 0.42948254 0.43422876\n",
      "        nan 0.40628989 0.42485326 0.4219244         nan 0.42769688\n",
      " 0.42021336 0.42378979        nan 0.43539219 0.42815321 0.4221994\n",
      "        nan 0.43320553 0.43199214 0.43043056]\n",
      "  warnings.warn(\n",
      "c:\\Users\\SAMSUNG\\anaconda3\\envs\\deep\\Lib\\site-packages\\sklearn\\model_selection\\_search.py:1135: UserWarning: One or more of the train scores are non-finite: [       nan 0.57017774 0.57203372 0.56562377        nan 0.56526133\n",
      " 0.56812117 0.56010703        nan 0.55807724 0.56138202 0.55821477\n",
      "        nan 0.55646013 0.55464062 0.55313805        nan 0.56884117\n",
      " 0.57171651 0.56826914        nan 0.56411148 0.56655124 0.56827041\n",
      "        nan 0.55995359 0.56200738 0.56053541        nan 0.55429469\n",
      " 0.55496889 0.55199507        nan 0.72892297 0.71844018 0.69203643\n",
      "        nan 0.70062636 0.6992545  0.68114695        nan 0.66527965\n",
      " 0.66494596 0.6649432         nan 0.63422958 0.63312133 0.63484252\n",
      "        nan 0.72961357 0.71955342 0.69334168        nan 0.70148935\n",
      " 0.70125199 0.68172024        nan 0.66457729 0.6672028  0.66409244\n",
      "        nan 0.63560499 0.63368525 0.63157149        nan 0.90992166\n",
      " 0.86938281 0.78935031        nan 0.7930633  0.79633253 0.75036881\n",
      "        nan 0.71000273 0.70563452 0.70961041        nan 0.65453314\n",
      " 0.65353876 0.65399303        nan 0.90700415 0.8694183  0.78761116\n",
      "        nan 0.79559501 0.79388626 0.74978841        nan 0.7087284\n",
      " 0.70709206 0.70656526        nan 0.65209189 0.6542071  0.65417852\n",
      "        nan 0.9194502  0.87613045 0.79117195        nan 0.79687372\n",
      " 0.79909864 0.74871711        nan 0.70844135 0.70599307 0.70873064\n",
      "        nan 0.65419394 0.6536314  0.65198323        nan 0.91868368\n",
      " 0.87568503 0.79160437        nan 0.79605174 0.7955781  0.74975082\n",
      "        nan 0.70882706 0.7078584  0.71002573        nan 0.65368825\n",
      " 0.65499955 0.65455794        nan 0.92184998 0.877399   0.79173051\n",
      "        nan 0.79796968 0.79786096 0.74830564        nan 0.70929767\n",
      " 0.70970636 0.708204          nan 0.65497919 0.65771722 0.65500273\n",
      "        nan 0.92244486 0.87784283 0.79322257        nan 0.79786667\n",
      " 0.79764501 0.75101532        nan 0.70497906 0.70863911 0.70953926\n",
      "        nan 0.65433517 0.65492981 0.65371684]\n",
      "  warnings.warn(\n"
     ]
    },
    {
     "ename": "AttributeError",
     "evalue": "'bool' object has no attribute 'all'",
     "output_type": "error",
     "traceback": [
      "\u001b[31m---------------------------------------------------------------------------\u001b[39m",
      "\u001b[31mAttributeError\u001b[39m                            Traceback (most recent call last)",
      "\u001b[36mFile \u001b[39m\u001b[32mc:\\Users\\SAMSUNG\\anaconda3\\envs\\deep\\Lib\\site-packages\\IPython\\core\\formatters.py:1036\u001b[39m, in \u001b[36mMimeBundleFormatter.__call__\u001b[39m\u001b[34m(self, obj, include, exclude)\u001b[39m\n\u001b[32m   1033\u001b[39m     method = get_real_method(obj, \u001b[38;5;28mself\u001b[39m.print_method)\n\u001b[32m   1035\u001b[39m     \u001b[38;5;28;01mif\u001b[39;00m method \u001b[38;5;129;01mis\u001b[39;00m \u001b[38;5;129;01mnot\u001b[39;00m \u001b[38;5;28;01mNone\u001b[39;00m:\n\u001b[32m-> \u001b[39m\u001b[32m1036\u001b[39m         \u001b[38;5;28;01mreturn\u001b[39;00m \u001b[43mmethod\u001b[49m\u001b[43m(\u001b[49m\u001b[43minclude\u001b[49m\u001b[43m=\u001b[49m\u001b[43minclude\u001b[49m\u001b[43m,\u001b[49m\u001b[43m \u001b[49m\u001b[43mexclude\u001b[49m\u001b[43m=\u001b[49m\u001b[43mexclude\u001b[49m\u001b[43m)\u001b[49m\n\u001b[32m   1037\u001b[39m     \u001b[38;5;28;01mreturn\u001b[39;00m \u001b[38;5;28;01mNone\u001b[39;00m\n\u001b[32m   1038\u001b[39m \u001b[38;5;28;01melse\u001b[39;00m:\n",
      "\u001b[36mFile \u001b[39m\u001b[32mc:\\Users\\SAMSUNG\\anaconda3\\envs\\deep\\Lib\\site-packages\\sklearn\\utils\\_repr_html\\base.py:151\u001b[39m, in \u001b[36mReprHTMLMixin._repr_mimebundle_\u001b[39m\u001b[34m(self, **kwargs)\u001b[39m\n\u001b[32m    149\u001b[39m output = {\u001b[33m\"\u001b[39m\u001b[33mtext/plain\u001b[39m\u001b[33m\"\u001b[39m: \u001b[38;5;28mrepr\u001b[39m(\u001b[38;5;28mself\u001b[39m)}\n\u001b[32m    150\u001b[39m \u001b[38;5;28;01mif\u001b[39;00m get_config()[\u001b[33m\"\u001b[39m\u001b[33mdisplay\u001b[39m\u001b[33m\"\u001b[39m] == \u001b[33m\"\u001b[39m\u001b[33mdiagram\u001b[39m\u001b[33m\"\u001b[39m:\n\u001b[32m--> \u001b[39m\u001b[32m151\u001b[39m     output[\u001b[33m\"\u001b[39m\u001b[33mtext/html\u001b[39m\u001b[33m\"\u001b[39m] = \u001b[38;5;28;43mself\u001b[39;49m\u001b[43m.\u001b[49m\u001b[43m_html_repr\u001b[49m\u001b[43m(\u001b[49m\u001b[43m)\u001b[49m\n\u001b[32m    152\u001b[39m \u001b[38;5;28;01mreturn\u001b[39;00m output\n",
      "\u001b[36mFile \u001b[39m\u001b[32mc:\\Users\\SAMSUNG\\anaconda3\\envs\\deep\\Lib\\site-packages\\sklearn\\utils\\_repr_html\\estimator.py:480\u001b[39m, in \u001b[36mestimator_html_repr\u001b[39m\u001b[34m(estimator)\u001b[39m\n\u001b[32m    469\u001b[39m html_template = (\n\u001b[32m    470\u001b[39m     \u001b[33mf\u001b[39m\u001b[33m\"\u001b[39m\u001b[33m<style>\u001b[39m\u001b[38;5;132;01m{\u001b[39;00mstyle_with_id\u001b[38;5;132;01m}\u001b[39;00m\u001b[33m</style>\u001b[39m\u001b[33m\"\u001b[39m\n\u001b[32m    471\u001b[39m     \u001b[33mf\u001b[39m\u001b[33m\"\u001b[39m\u001b[33m<body>\u001b[39m\u001b[33m\"\u001b[39m\n\u001b[32m   (...)\u001b[39m\u001b[32m    476\u001b[39m     \u001b[33m'\u001b[39m\u001b[33m<div class=\u001b[39m\u001b[33m\"\u001b[39m\u001b[33msk-container\u001b[39m\u001b[33m\"\u001b[39m\u001b[33m hidden>\u001b[39m\u001b[33m'\u001b[39m\n\u001b[32m    477\u001b[39m )\n\u001b[32m    479\u001b[39m out.write(html_template)\n\u001b[32m--> \u001b[39m\u001b[32m480\u001b[39m \u001b[43m_write_estimator_html\u001b[49m\u001b[43m(\u001b[49m\n\u001b[32m    481\u001b[39m \u001b[43m    \u001b[49m\u001b[43mout\u001b[49m\u001b[43m,\u001b[49m\n\u001b[32m    482\u001b[39m \u001b[43m    \u001b[49m\u001b[43mestimator\u001b[49m\u001b[43m,\u001b[49m\n\u001b[32m    483\u001b[39m \u001b[43m    \u001b[49m\u001b[43mestimator\u001b[49m\u001b[43m.\u001b[49m\u001b[34;43m__class__\u001b[39;49m\u001b[43m.\u001b[49m\u001b[34;43m__name__\u001b[39;49m\u001b[43m,\u001b[49m\n\u001b[32m    484\u001b[39m \u001b[43m    \u001b[49m\u001b[43mestimator_str\u001b[49m\u001b[43m,\u001b[49m\n\u001b[32m    485\u001b[39m \u001b[43m    \u001b[49m\u001b[43mfirst_call\u001b[49m\u001b[43m=\u001b[49m\u001b[38;5;28;43;01mTrue\u001b[39;49;00m\u001b[43m,\u001b[49m\n\u001b[32m    486\u001b[39m \u001b[43m    \u001b[49m\u001b[43mis_fitted_css_class\u001b[49m\u001b[43m=\u001b[49m\u001b[43mis_fitted_css_class\u001b[49m\u001b[43m,\u001b[49m\n\u001b[32m    487\u001b[39m \u001b[43m    \u001b[49m\u001b[43mis_fitted_icon\u001b[49m\u001b[43m=\u001b[49m\u001b[43mis_fitted_icon\u001b[49m\u001b[43m,\u001b[49m\n\u001b[32m    488\u001b[39m \u001b[43m\u001b[49m\u001b[43m)\u001b[49m\n\u001b[32m    489\u001b[39m \u001b[38;5;28;01mwith\u001b[39;00m \u001b[38;5;28mopen\u001b[39m(\u001b[38;5;28mstr\u001b[39m(Path(\u001b[34m__file__\u001b[39m).parent / \u001b[33m\"\u001b[39m\u001b[33mestimator.js\u001b[39m\u001b[33m\"\u001b[39m), \u001b[33m\"\u001b[39m\u001b[33mr\u001b[39m\u001b[33m\"\u001b[39m) \u001b[38;5;28;01mas\u001b[39;00m f:\n\u001b[32m    490\u001b[39m     script = f.read()\n",
      "\u001b[36mFile \u001b[39m\u001b[32mc:\\Users\\SAMSUNG\\anaconda3\\envs\\deep\\Lib\\site-packages\\sklearn\\utils\\_repr_html\\estimator.py:373\u001b[39m, in \u001b[36m_write_estimator_html\u001b[39m\u001b[34m(out, estimator, estimator_label, estimator_label_details, is_fitted_css_class, is_fitted_icon, first_call, param_prefix)\u001b[39m\n\u001b[32m    371\u001b[39m         \u001b[38;5;66;03m# wrap element in a serial visualblock\u001b[39;00m\n\u001b[32m    372\u001b[39m         serial_block = _VisualBlock(\u001b[33m\"\u001b[39m\u001b[33mserial\u001b[39m\u001b[33m\"\u001b[39m, [est], dash_wrapped=\u001b[38;5;28;01mFalse\u001b[39;00m)\n\u001b[32m--> \u001b[39m\u001b[32m373\u001b[39m         \u001b[43m_write_estimator_html\u001b[49m\u001b[43m(\u001b[49m\n\u001b[32m    374\u001b[39m \u001b[43m            \u001b[49m\u001b[43mout\u001b[49m\u001b[43m,\u001b[49m\n\u001b[32m    375\u001b[39m \u001b[43m            \u001b[49m\u001b[43mserial_block\u001b[49m\u001b[43m,\u001b[49m\n\u001b[32m    376\u001b[39m \u001b[43m            \u001b[49m\u001b[43mname\u001b[49m\u001b[43m,\u001b[49m\n\u001b[32m    377\u001b[39m \u001b[43m            \u001b[49m\u001b[43mname_details\u001b[49m\u001b[43m,\u001b[49m\n\u001b[32m    378\u001b[39m \u001b[43m            \u001b[49m\u001b[43mis_fitted_css_class\u001b[49m\u001b[43m=\u001b[49m\u001b[43mis_fitted_css_class\u001b[49m\u001b[43m,\u001b[49m\n\u001b[32m    379\u001b[39m \u001b[43m            \u001b[49m\u001b[43mparam_prefix\u001b[49m\u001b[43m=\u001b[49m\u001b[43mnew_prefix\u001b[49m\u001b[43m,\u001b[49m\n\u001b[32m    380\u001b[39m \u001b[43m        \u001b[49m\u001b[43m)\u001b[49m\n\u001b[32m    381\u001b[39m         out.write(\u001b[33m\"\u001b[39m\u001b[33m</div>\u001b[39m\u001b[33m\"\u001b[39m)  \u001b[38;5;66;03m# sk-parallel-item\u001b[39;00m\n\u001b[32m    383\u001b[39m out.write(\u001b[33m\"\u001b[39m\u001b[33m</div></div>\u001b[39m\u001b[33m\"\u001b[39m)\n",
      "\u001b[36mFile \u001b[39m\u001b[32mc:\\Users\\SAMSUNG\\anaconda3\\envs\\deep\\Lib\\site-packages\\sklearn\\utils\\_repr_html\\estimator.py:361\u001b[39m, in \u001b[36m_write_estimator_html\u001b[39m\u001b[34m(out, estimator, estimator_label, estimator_label_details, is_fitted_css_class, is_fitted_icon, first_call, param_prefix)\u001b[39m\n\u001b[32m    358\u001b[39m     new_prefix = param_prefix\n\u001b[32m    360\u001b[39m \u001b[38;5;28;01mif\u001b[39;00m kind == \u001b[33m\"\u001b[39m\u001b[33mserial\u001b[39m\u001b[33m\"\u001b[39m:\n\u001b[32m--> \u001b[39m\u001b[32m361\u001b[39m     \u001b[43m_write_estimator_html\u001b[49m\u001b[43m(\u001b[49m\n\u001b[32m    362\u001b[39m \u001b[43m        \u001b[49m\u001b[43mout\u001b[49m\u001b[43m,\u001b[49m\n\u001b[32m    363\u001b[39m \u001b[43m        \u001b[49m\u001b[43mest\u001b[49m\u001b[43m,\u001b[49m\n\u001b[32m    364\u001b[39m \u001b[43m        \u001b[49m\u001b[43mname\u001b[49m\u001b[43m,\u001b[49m\n\u001b[32m    365\u001b[39m \u001b[43m        \u001b[49m\u001b[43mname_details\u001b[49m\u001b[43m,\u001b[49m\n\u001b[32m    366\u001b[39m \u001b[43m        \u001b[49m\u001b[43mis_fitted_css_class\u001b[49m\u001b[43m=\u001b[49m\u001b[43mis_fitted_css_class\u001b[49m\u001b[43m,\u001b[49m\n\u001b[32m    367\u001b[39m \u001b[43m        \u001b[49m\u001b[43mparam_prefix\u001b[49m\u001b[43m=\u001b[49m\u001b[43mnew_prefix\u001b[49m\u001b[43m,\u001b[49m\n\u001b[32m    368\u001b[39m \u001b[43m    \u001b[49m\u001b[43m)\u001b[49m\n\u001b[32m    369\u001b[39m \u001b[38;5;28;01melse\u001b[39;00m:  \u001b[38;5;66;03m# parallel\u001b[39;00m\n\u001b[32m    370\u001b[39m     out.write(\u001b[33m'\u001b[39m\u001b[33m<div class=\u001b[39m\u001b[33m\"\u001b[39m\u001b[33msk-parallel-item\u001b[39m\u001b[33m\"\u001b[39m\u001b[33m>\u001b[39m\u001b[33m'\u001b[39m)\n",
      "\u001b[36mFile \u001b[39m\u001b[32mc:\\Users\\SAMSUNG\\anaconda3\\envs\\deep\\Lib\\site-packages\\sklearn\\utils\\_repr_html\\estimator.py:386\u001b[39m, in \u001b[36m_write_estimator_html\u001b[39m\u001b[34m(out, estimator, estimator_label, estimator_label_details, is_fitted_css_class, is_fitted_icon, first_call, param_prefix)\u001b[39m\n\u001b[32m    384\u001b[39m \u001b[38;5;28;01melif\u001b[39;00m est_block.kind == \u001b[33m\"\u001b[39m\u001b[33msingle\u001b[39m\u001b[33m\"\u001b[39m:\n\u001b[32m    385\u001b[39m     \u001b[38;5;28;01mif\u001b[39;00m \u001b[38;5;28mhasattr\u001b[39m(estimator, \u001b[33m\"\u001b[39m\u001b[33m_get_params_html\u001b[39m\u001b[33m\"\u001b[39m):\n\u001b[32m--> \u001b[39m\u001b[32m386\u001b[39m         params = \u001b[43mestimator\u001b[49m\u001b[43m.\u001b[49m\u001b[43m_get_params_html\u001b[49m\u001b[43m(\u001b[49m\u001b[43m)\u001b[49m._repr_html_inner()\n\u001b[32m    387\u001b[39m     \u001b[38;5;28;01melse\u001b[39;00m:\n\u001b[32m    388\u001b[39m         params = \u001b[33m\"\u001b[39m\u001b[33m\"\u001b[39m\n",
      "\u001b[36mFile \u001b[39m\u001b[32mc:\\Users\\SAMSUNG\\anaconda3\\envs\\deep\\Lib\\site-packages\\sklearn\\base.py:312\u001b[39m, in \u001b[36mBaseEstimator._get_params_html\u001b[39m\u001b[34m(self, deep)\u001b[39m\n\u001b[32m    308\u001b[39m ordered_out = {name: out[name] \u001b[38;5;28;01mfor\u001b[39;00m name \u001b[38;5;129;01min\u001b[39;00m init_default_params \u001b[38;5;28;01mif\u001b[39;00m name \u001b[38;5;129;01min\u001b[39;00m out}\n\u001b[32m    309\u001b[39m ordered_out.update({name: out[name] \u001b[38;5;28;01mfor\u001b[39;00m name \u001b[38;5;129;01min\u001b[39;00m remaining_params})\n\u001b[32m    311\u001b[39m non_default_ls = \u001b[38;5;28mtuple\u001b[39m(\n\u001b[32m--> \u001b[39m\u001b[32m312\u001b[39m     \u001b[43m[\u001b[49m\u001b[43mname\u001b[49m\u001b[43m \u001b[49m\u001b[38;5;28;43;01mfor\u001b[39;49;00m\u001b[43m \u001b[49m\u001b[43mname\u001b[49m\u001b[43m,\u001b[49m\u001b[43m \u001b[49m\u001b[43mvalue\u001b[49m\u001b[43m \u001b[49m\u001b[38;5;129;43;01min\u001b[39;49;00m\u001b[43m \u001b[49m\u001b[43mordered_out\u001b[49m\u001b[43m.\u001b[49m\u001b[43mitems\u001b[49m\u001b[43m(\u001b[49m\u001b[43m)\u001b[49m\u001b[43m \u001b[49m\u001b[38;5;28;43;01mif\u001b[39;49;00m\u001b[43m \u001b[49m\u001b[43mis_non_default\u001b[49m\u001b[43m(\u001b[49m\u001b[43mname\u001b[49m\u001b[43m,\u001b[49m\u001b[43m \u001b[49m\u001b[43mvalue\u001b[49m\u001b[43m)\u001b[49m\u001b[43m]\u001b[49m\n\u001b[32m    313\u001b[39m )\n\u001b[32m    315\u001b[39m \u001b[38;5;28;01mreturn\u001b[39;00m ParamsDict(ordered_out, non_default=non_default_ls)\n",
      "\u001b[36mFile \u001b[39m\u001b[32mc:\\Users\\SAMSUNG\\anaconda3\\envs\\deep\\Lib\\site-packages\\sklearn\\base.py:312\u001b[39m, in \u001b[36m<listcomp>\u001b[39m\u001b[34m(.0)\u001b[39m\n\u001b[32m    308\u001b[39m ordered_out = {name: out[name] \u001b[38;5;28;01mfor\u001b[39;00m name \u001b[38;5;129;01min\u001b[39;00m init_default_params \u001b[38;5;28;01mif\u001b[39;00m name \u001b[38;5;129;01min\u001b[39;00m out}\n\u001b[32m    309\u001b[39m ordered_out.update({name: out[name] \u001b[38;5;28;01mfor\u001b[39;00m name \u001b[38;5;129;01min\u001b[39;00m remaining_params})\n\u001b[32m    311\u001b[39m non_default_ls = \u001b[38;5;28mtuple\u001b[39m(\n\u001b[32m--> \u001b[39m\u001b[32m312\u001b[39m     [name \u001b[38;5;28;01mfor\u001b[39;00m name, value \u001b[38;5;129;01min\u001b[39;00m ordered_out.items() \u001b[38;5;28;01mif\u001b[39;00m \u001b[43mis_non_default\u001b[49m\u001b[43m(\u001b[49m\u001b[43mname\u001b[49m\u001b[43m,\u001b[49m\u001b[43m \u001b[49m\u001b[43mvalue\u001b[49m\u001b[43m)\u001b[49m]\n\u001b[32m    313\u001b[39m )\n\u001b[32m    315\u001b[39m \u001b[38;5;28;01mreturn\u001b[39;00m ParamsDict(ordered_out, non_default=non_default_ls)\n",
      "\u001b[36mFile \u001b[39m\u001b[32mc:\\Users\\SAMSUNG\\anaconda3\\envs\\deep\\Lib\\site-packages\\sklearn\\base.py:295\u001b[39m, in \u001b[36mBaseEstimator._get_params_html.<locals>.is_non_default\u001b[39m\u001b[34m(param_name, param_value)\u001b[39m\n\u001b[32m    291\u001b[39m \u001b[38;5;28;01mif\u001b[39;00m \u001b[38;5;28misinstance\u001b[39m(param_value, BaseEstimator) \u001b[38;5;129;01mand\u001b[39;00m \u001b[38;5;28mtype\u001b[39m(param_value) \u001b[38;5;129;01mis\u001b[39;00m \u001b[38;5;129;01mnot\u001b[39;00m \u001b[38;5;28mtype\u001b[39m(\n\u001b[32m    292\u001b[39m     init_default_params[param_name]\n\u001b[32m    293\u001b[39m ):\n\u001b[32m    294\u001b[39m     \u001b[38;5;28;01mreturn\u001b[39;00m \u001b[38;5;28;01mTrue\u001b[39;00m\n\u001b[32m--> \u001b[39m\u001b[32m295\u001b[39m \u001b[38;5;28;01mif\u001b[39;00m \u001b[38;5;129;01mnot\u001b[39;00m \u001b[43mnp\u001b[49m\u001b[43m.\u001b[49m\u001b[43marray_equal\u001b[49m\u001b[43m(\u001b[49m\n\u001b[32m    296\u001b[39m \u001b[43m    \u001b[49m\u001b[43mparam_value\u001b[49m\u001b[43m,\u001b[49m\u001b[43m \u001b[49m\u001b[43minit_default_params\u001b[49m\u001b[43m[\u001b[49m\u001b[43mparam_name\u001b[49m\u001b[43m]\u001b[49m\n\u001b[32m    297\u001b[39m \u001b[43m\u001b[49m\u001b[43m)\u001b[49m \u001b[38;5;129;01mand\u001b[39;00m \u001b[38;5;129;01mnot\u001b[39;00m (\n\u001b[32m    298\u001b[39m     is_scalar_nan(init_default_params[param_name])\n\u001b[32m    299\u001b[39m     \u001b[38;5;129;01mand\u001b[39;00m is_scalar_nan(param_value)\n\u001b[32m    300\u001b[39m ):\n\u001b[32m    301\u001b[39m     \u001b[38;5;28;01mreturn\u001b[39;00m \u001b[38;5;28;01mTrue\u001b[39;00m\n\u001b[32m    303\u001b[39m \u001b[38;5;28;01mreturn\u001b[39;00m \u001b[38;5;28;01mFalse\u001b[39;00m\n",
      "\u001b[36mFile \u001b[39m\u001b[32mc:\\Users\\SAMSUNG\\anaconda3\\envs\\deep\\Lib\\site-packages\\numpy\\_core\\numeric.py:2506\u001b[39m, in \u001b[36marray_equal\u001b[39m\u001b[34m(a1, a2, equal_nan)\u001b[39m\n\u001b[32m   2504\u001b[39m     \u001b[38;5;28;01mreturn\u001b[39;00m \u001b[38;5;28;01mFalse\u001b[39;00m\n\u001b[32m   2505\u001b[39m \u001b[38;5;28;01mif\u001b[39;00m \u001b[38;5;129;01mnot\u001b[39;00m equal_nan:\n\u001b[32m-> \u001b[39m\u001b[32m2506\u001b[39m     \u001b[38;5;28;01mreturn\u001b[39;00m builtins.bool(\u001b[43m(\u001b[49m\u001b[43ma1\u001b[49m\u001b[43m \u001b[49m\u001b[43m==\u001b[49m\u001b[43m \u001b[49m\u001b[43ma2\u001b[49m\u001b[43m)\u001b[49m\u001b[43m.\u001b[49m\u001b[43mall\u001b[49m())\n\u001b[32m   2507\u001b[39m cannot_have_nan = (_dtype_cannot_hold_nan(a1.dtype)\n\u001b[32m   2508\u001b[39m                    \u001b[38;5;129;01mand\u001b[39;00m _dtype_cannot_hold_nan(a2.dtype))\n\u001b[32m   2509\u001b[39m \u001b[38;5;28;01mif\u001b[39;00m cannot_have_nan:\n",
      "\u001b[31mAttributeError\u001b[39m: 'bool' object has no attribute 'all'"
     ]
    },
    {
     "ename": "AttributeError",
     "evalue": "'bool' object has no attribute 'all'",
     "output_type": "error",
     "traceback": [
      "\u001b[31m---------------------------------------------------------------------------\u001b[39m",
      "\u001b[31mAttributeError\u001b[39m                            Traceback (most recent call last)",
      "\u001b[36mFile \u001b[39m\u001b[32mc:\\Users\\SAMSUNG\\anaconda3\\envs\\deep\\Lib\\site-packages\\IPython\\core\\formatters.py:406\u001b[39m, in \u001b[36mBaseFormatter.__call__\u001b[39m\u001b[34m(self, obj)\u001b[39m\n\u001b[32m    404\u001b[39m     method = get_real_method(obj, \u001b[38;5;28mself\u001b[39m.print_method)\n\u001b[32m    405\u001b[39m     \u001b[38;5;28;01mif\u001b[39;00m method \u001b[38;5;129;01mis\u001b[39;00m \u001b[38;5;129;01mnot\u001b[39;00m \u001b[38;5;28;01mNone\u001b[39;00m:\n\u001b[32m--> \u001b[39m\u001b[32m406\u001b[39m         \u001b[38;5;28;01mreturn\u001b[39;00m \u001b[43mmethod\u001b[49m\u001b[43m(\u001b[49m\u001b[43m)\u001b[49m\n\u001b[32m    407\u001b[39m     \u001b[38;5;28;01mreturn\u001b[39;00m \u001b[38;5;28;01mNone\u001b[39;00m\n\u001b[32m    408\u001b[39m \u001b[38;5;28;01melse\u001b[39;00m:\n",
      "\u001b[36mFile \u001b[39m\u001b[32mc:\\Users\\SAMSUNG\\anaconda3\\envs\\deep\\Lib\\site-packages\\sklearn\\utils\\_repr_html\\base.py:145\u001b[39m, in \u001b[36mReprHTMLMixin._repr_html_inner\u001b[39m\u001b[34m(self)\u001b[39m\n\u001b[32m    140\u001b[39m \u001b[38;5;28;01mdef\u001b[39;00m\u001b[38;5;250m \u001b[39m\u001b[34m_repr_html_inner\u001b[39m(\u001b[38;5;28mself\u001b[39m):\n\u001b[32m    141\u001b[39m \u001b[38;5;250m    \u001b[39m\u001b[33;03m\"\"\"This function is returned by the @property `_repr_html_` to make\u001b[39;00m\n\u001b[32m    142\u001b[39m \u001b[33;03m    `hasattr(estimator, \"_repr_html_\") return `True` or `False` depending\u001b[39;00m\n\u001b[32m    143\u001b[39m \u001b[33;03m    on `get_config()[\"display\"]`.\u001b[39;00m\n\u001b[32m    144\u001b[39m \u001b[33;03m    \"\"\"\u001b[39;00m\n\u001b[32m--> \u001b[39m\u001b[32m145\u001b[39m     \u001b[38;5;28;01mreturn\u001b[39;00m \u001b[38;5;28;43mself\u001b[39;49m\u001b[43m.\u001b[49m\u001b[43m_html_repr\u001b[49m\u001b[43m(\u001b[49m\u001b[43m)\u001b[49m\n",
      "\u001b[36mFile \u001b[39m\u001b[32mc:\\Users\\SAMSUNG\\anaconda3\\envs\\deep\\Lib\\site-packages\\sklearn\\utils\\_repr_html\\estimator.py:480\u001b[39m, in \u001b[36mestimator_html_repr\u001b[39m\u001b[34m(estimator)\u001b[39m\n\u001b[32m    469\u001b[39m html_template = (\n\u001b[32m    470\u001b[39m     \u001b[33mf\u001b[39m\u001b[33m\"\u001b[39m\u001b[33m<style>\u001b[39m\u001b[38;5;132;01m{\u001b[39;00mstyle_with_id\u001b[38;5;132;01m}\u001b[39;00m\u001b[33m</style>\u001b[39m\u001b[33m\"\u001b[39m\n\u001b[32m    471\u001b[39m     \u001b[33mf\u001b[39m\u001b[33m\"\u001b[39m\u001b[33m<body>\u001b[39m\u001b[33m\"\u001b[39m\n\u001b[32m   (...)\u001b[39m\u001b[32m    476\u001b[39m     \u001b[33m'\u001b[39m\u001b[33m<div class=\u001b[39m\u001b[33m\"\u001b[39m\u001b[33msk-container\u001b[39m\u001b[33m\"\u001b[39m\u001b[33m hidden>\u001b[39m\u001b[33m'\u001b[39m\n\u001b[32m    477\u001b[39m )\n\u001b[32m    479\u001b[39m out.write(html_template)\n\u001b[32m--> \u001b[39m\u001b[32m480\u001b[39m \u001b[43m_write_estimator_html\u001b[49m\u001b[43m(\u001b[49m\n\u001b[32m    481\u001b[39m \u001b[43m    \u001b[49m\u001b[43mout\u001b[49m\u001b[43m,\u001b[49m\n\u001b[32m    482\u001b[39m \u001b[43m    \u001b[49m\u001b[43mestimator\u001b[49m\u001b[43m,\u001b[49m\n\u001b[32m    483\u001b[39m \u001b[43m    \u001b[49m\u001b[43mestimator\u001b[49m\u001b[43m.\u001b[49m\u001b[34;43m__class__\u001b[39;49m\u001b[43m.\u001b[49m\u001b[34;43m__name__\u001b[39;49m\u001b[43m,\u001b[49m\n\u001b[32m    484\u001b[39m \u001b[43m    \u001b[49m\u001b[43mestimator_str\u001b[49m\u001b[43m,\u001b[49m\n\u001b[32m    485\u001b[39m \u001b[43m    \u001b[49m\u001b[43mfirst_call\u001b[49m\u001b[43m=\u001b[49m\u001b[38;5;28;43;01mTrue\u001b[39;49;00m\u001b[43m,\u001b[49m\n\u001b[32m    486\u001b[39m \u001b[43m    \u001b[49m\u001b[43mis_fitted_css_class\u001b[49m\u001b[43m=\u001b[49m\u001b[43mis_fitted_css_class\u001b[49m\u001b[43m,\u001b[49m\n\u001b[32m    487\u001b[39m \u001b[43m    \u001b[49m\u001b[43mis_fitted_icon\u001b[49m\u001b[43m=\u001b[49m\u001b[43mis_fitted_icon\u001b[49m\u001b[43m,\u001b[49m\n\u001b[32m    488\u001b[39m \u001b[43m\u001b[49m\u001b[43m)\u001b[49m\n\u001b[32m    489\u001b[39m \u001b[38;5;28;01mwith\u001b[39;00m \u001b[38;5;28mopen\u001b[39m(\u001b[38;5;28mstr\u001b[39m(Path(\u001b[34m__file__\u001b[39m).parent / \u001b[33m\"\u001b[39m\u001b[33mestimator.js\u001b[39m\u001b[33m\"\u001b[39m), \u001b[33m\"\u001b[39m\u001b[33mr\u001b[39m\u001b[33m\"\u001b[39m) \u001b[38;5;28;01mas\u001b[39;00m f:\n\u001b[32m    490\u001b[39m     script = f.read()\n",
      "\u001b[36mFile \u001b[39m\u001b[32mc:\\Users\\SAMSUNG\\anaconda3\\envs\\deep\\Lib\\site-packages\\sklearn\\utils\\_repr_html\\estimator.py:373\u001b[39m, in \u001b[36m_write_estimator_html\u001b[39m\u001b[34m(out, estimator, estimator_label, estimator_label_details, is_fitted_css_class, is_fitted_icon, first_call, param_prefix)\u001b[39m\n\u001b[32m    371\u001b[39m         \u001b[38;5;66;03m# wrap element in a serial visualblock\u001b[39;00m\n\u001b[32m    372\u001b[39m         serial_block = _VisualBlock(\u001b[33m\"\u001b[39m\u001b[33mserial\u001b[39m\u001b[33m\"\u001b[39m, [est], dash_wrapped=\u001b[38;5;28;01mFalse\u001b[39;00m)\n\u001b[32m--> \u001b[39m\u001b[32m373\u001b[39m         \u001b[43m_write_estimator_html\u001b[49m\u001b[43m(\u001b[49m\n\u001b[32m    374\u001b[39m \u001b[43m            \u001b[49m\u001b[43mout\u001b[49m\u001b[43m,\u001b[49m\n\u001b[32m    375\u001b[39m \u001b[43m            \u001b[49m\u001b[43mserial_block\u001b[49m\u001b[43m,\u001b[49m\n\u001b[32m    376\u001b[39m \u001b[43m            \u001b[49m\u001b[43mname\u001b[49m\u001b[43m,\u001b[49m\n\u001b[32m    377\u001b[39m \u001b[43m            \u001b[49m\u001b[43mname_details\u001b[49m\u001b[43m,\u001b[49m\n\u001b[32m    378\u001b[39m \u001b[43m            \u001b[49m\u001b[43mis_fitted_css_class\u001b[49m\u001b[43m=\u001b[49m\u001b[43mis_fitted_css_class\u001b[49m\u001b[43m,\u001b[49m\n\u001b[32m    379\u001b[39m \u001b[43m            \u001b[49m\u001b[43mparam_prefix\u001b[49m\u001b[43m=\u001b[49m\u001b[43mnew_prefix\u001b[49m\u001b[43m,\u001b[49m\n\u001b[32m    380\u001b[39m \u001b[43m        \u001b[49m\u001b[43m)\u001b[49m\n\u001b[32m    381\u001b[39m         out.write(\u001b[33m\"\u001b[39m\u001b[33m</div>\u001b[39m\u001b[33m\"\u001b[39m)  \u001b[38;5;66;03m# sk-parallel-item\u001b[39;00m\n\u001b[32m    383\u001b[39m out.write(\u001b[33m\"\u001b[39m\u001b[33m</div></div>\u001b[39m\u001b[33m\"\u001b[39m)\n",
      "\u001b[36mFile \u001b[39m\u001b[32mc:\\Users\\SAMSUNG\\anaconda3\\envs\\deep\\Lib\\site-packages\\sklearn\\utils\\_repr_html\\estimator.py:361\u001b[39m, in \u001b[36m_write_estimator_html\u001b[39m\u001b[34m(out, estimator, estimator_label, estimator_label_details, is_fitted_css_class, is_fitted_icon, first_call, param_prefix)\u001b[39m\n\u001b[32m    358\u001b[39m     new_prefix = param_prefix\n\u001b[32m    360\u001b[39m \u001b[38;5;28;01mif\u001b[39;00m kind == \u001b[33m\"\u001b[39m\u001b[33mserial\u001b[39m\u001b[33m\"\u001b[39m:\n\u001b[32m--> \u001b[39m\u001b[32m361\u001b[39m     \u001b[43m_write_estimator_html\u001b[49m\u001b[43m(\u001b[49m\n\u001b[32m    362\u001b[39m \u001b[43m        \u001b[49m\u001b[43mout\u001b[49m\u001b[43m,\u001b[49m\n\u001b[32m    363\u001b[39m \u001b[43m        \u001b[49m\u001b[43mest\u001b[49m\u001b[43m,\u001b[49m\n\u001b[32m    364\u001b[39m \u001b[43m        \u001b[49m\u001b[43mname\u001b[49m\u001b[43m,\u001b[49m\n\u001b[32m    365\u001b[39m \u001b[43m        \u001b[49m\u001b[43mname_details\u001b[49m\u001b[43m,\u001b[49m\n\u001b[32m    366\u001b[39m \u001b[43m        \u001b[49m\u001b[43mis_fitted_css_class\u001b[49m\u001b[43m=\u001b[49m\u001b[43mis_fitted_css_class\u001b[49m\u001b[43m,\u001b[49m\n\u001b[32m    367\u001b[39m \u001b[43m        \u001b[49m\u001b[43mparam_prefix\u001b[49m\u001b[43m=\u001b[49m\u001b[43mnew_prefix\u001b[49m\u001b[43m,\u001b[49m\n\u001b[32m    368\u001b[39m \u001b[43m    \u001b[49m\u001b[43m)\u001b[49m\n\u001b[32m    369\u001b[39m \u001b[38;5;28;01melse\u001b[39;00m:  \u001b[38;5;66;03m# parallel\u001b[39;00m\n\u001b[32m    370\u001b[39m     out.write(\u001b[33m'\u001b[39m\u001b[33m<div class=\u001b[39m\u001b[33m\"\u001b[39m\u001b[33msk-parallel-item\u001b[39m\u001b[33m\"\u001b[39m\u001b[33m>\u001b[39m\u001b[33m'\u001b[39m)\n",
      "\u001b[36mFile \u001b[39m\u001b[32mc:\\Users\\SAMSUNG\\anaconda3\\envs\\deep\\Lib\\site-packages\\sklearn\\utils\\_repr_html\\estimator.py:386\u001b[39m, in \u001b[36m_write_estimator_html\u001b[39m\u001b[34m(out, estimator, estimator_label, estimator_label_details, is_fitted_css_class, is_fitted_icon, first_call, param_prefix)\u001b[39m\n\u001b[32m    384\u001b[39m \u001b[38;5;28;01melif\u001b[39;00m est_block.kind == \u001b[33m\"\u001b[39m\u001b[33msingle\u001b[39m\u001b[33m\"\u001b[39m:\n\u001b[32m    385\u001b[39m     \u001b[38;5;28;01mif\u001b[39;00m \u001b[38;5;28mhasattr\u001b[39m(estimator, \u001b[33m\"\u001b[39m\u001b[33m_get_params_html\u001b[39m\u001b[33m\"\u001b[39m):\n\u001b[32m--> \u001b[39m\u001b[32m386\u001b[39m         params = \u001b[43mestimator\u001b[49m\u001b[43m.\u001b[49m\u001b[43m_get_params_html\u001b[49m\u001b[43m(\u001b[49m\u001b[43m)\u001b[49m._repr_html_inner()\n\u001b[32m    387\u001b[39m     \u001b[38;5;28;01melse\u001b[39;00m:\n\u001b[32m    388\u001b[39m         params = \u001b[33m\"\u001b[39m\u001b[33m\"\u001b[39m\n",
      "\u001b[36mFile \u001b[39m\u001b[32mc:\\Users\\SAMSUNG\\anaconda3\\envs\\deep\\Lib\\site-packages\\sklearn\\base.py:312\u001b[39m, in \u001b[36mBaseEstimator._get_params_html\u001b[39m\u001b[34m(self, deep)\u001b[39m\n\u001b[32m    308\u001b[39m ordered_out = {name: out[name] \u001b[38;5;28;01mfor\u001b[39;00m name \u001b[38;5;129;01min\u001b[39;00m init_default_params \u001b[38;5;28;01mif\u001b[39;00m name \u001b[38;5;129;01min\u001b[39;00m out}\n\u001b[32m    309\u001b[39m ordered_out.update({name: out[name] \u001b[38;5;28;01mfor\u001b[39;00m name \u001b[38;5;129;01min\u001b[39;00m remaining_params})\n\u001b[32m    311\u001b[39m non_default_ls = \u001b[38;5;28mtuple\u001b[39m(\n\u001b[32m--> \u001b[39m\u001b[32m312\u001b[39m     \u001b[43m[\u001b[49m\u001b[43mname\u001b[49m\u001b[43m \u001b[49m\u001b[38;5;28;43;01mfor\u001b[39;49;00m\u001b[43m \u001b[49m\u001b[43mname\u001b[49m\u001b[43m,\u001b[49m\u001b[43m \u001b[49m\u001b[43mvalue\u001b[49m\u001b[43m \u001b[49m\u001b[38;5;129;43;01min\u001b[39;49;00m\u001b[43m \u001b[49m\u001b[43mordered_out\u001b[49m\u001b[43m.\u001b[49m\u001b[43mitems\u001b[49m\u001b[43m(\u001b[49m\u001b[43m)\u001b[49m\u001b[43m \u001b[49m\u001b[38;5;28;43;01mif\u001b[39;49;00m\u001b[43m \u001b[49m\u001b[43mis_non_default\u001b[49m\u001b[43m(\u001b[49m\u001b[43mname\u001b[49m\u001b[43m,\u001b[49m\u001b[43m \u001b[49m\u001b[43mvalue\u001b[49m\u001b[43m)\u001b[49m\u001b[43m]\u001b[49m\n\u001b[32m    313\u001b[39m )\n\u001b[32m    315\u001b[39m \u001b[38;5;28;01mreturn\u001b[39;00m ParamsDict(ordered_out, non_default=non_default_ls)\n",
      "\u001b[36mFile \u001b[39m\u001b[32mc:\\Users\\SAMSUNG\\anaconda3\\envs\\deep\\Lib\\site-packages\\sklearn\\base.py:312\u001b[39m, in \u001b[36m<listcomp>\u001b[39m\u001b[34m(.0)\u001b[39m\n\u001b[32m    308\u001b[39m ordered_out = {name: out[name] \u001b[38;5;28;01mfor\u001b[39;00m name \u001b[38;5;129;01min\u001b[39;00m init_default_params \u001b[38;5;28;01mif\u001b[39;00m name \u001b[38;5;129;01min\u001b[39;00m out}\n\u001b[32m    309\u001b[39m ordered_out.update({name: out[name] \u001b[38;5;28;01mfor\u001b[39;00m name \u001b[38;5;129;01min\u001b[39;00m remaining_params})\n\u001b[32m    311\u001b[39m non_default_ls = \u001b[38;5;28mtuple\u001b[39m(\n\u001b[32m--> \u001b[39m\u001b[32m312\u001b[39m     [name \u001b[38;5;28;01mfor\u001b[39;00m name, value \u001b[38;5;129;01min\u001b[39;00m ordered_out.items() \u001b[38;5;28;01mif\u001b[39;00m \u001b[43mis_non_default\u001b[49m\u001b[43m(\u001b[49m\u001b[43mname\u001b[49m\u001b[43m,\u001b[49m\u001b[43m \u001b[49m\u001b[43mvalue\u001b[49m\u001b[43m)\u001b[49m]\n\u001b[32m    313\u001b[39m )\n\u001b[32m    315\u001b[39m \u001b[38;5;28;01mreturn\u001b[39;00m ParamsDict(ordered_out, non_default=non_default_ls)\n",
      "\u001b[36mFile \u001b[39m\u001b[32mc:\\Users\\SAMSUNG\\anaconda3\\envs\\deep\\Lib\\site-packages\\sklearn\\base.py:295\u001b[39m, in \u001b[36mBaseEstimator._get_params_html.<locals>.is_non_default\u001b[39m\u001b[34m(param_name, param_value)\u001b[39m\n\u001b[32m    291\u001b[39m \u001b[38;5;28;01mif\u001b[39;00m \u001b[38;5;28misinstance\u001b[39m(param_value, BaseEstimator) \u001b[38;5;129;01mand\u001b[39;00m \u001b[38;5;28mtype\u001b[39m(param_value) \u001b[38;5;129;01mis\u001b[39;00m \u001b[38;5;129;01mnot\u001b[39;00m \u001b[38;5;28mtype\u001b[39m(\n\u001b[32m    292\u001b[39m     init_default_params[param_name]\n\u001b[32m    293\u001b[39m ):\n\u001b[32m    294\u001b[39m     \u001b[38;5;28;01mreturn\u001b[39;00m \u001b[38;5;28;01mTrue\u001b[39;00m\n\u001b[32m--> \u001b[39m\u001b[32m295\u001b[39m \u001b[38;5;28;01mif\u001b[39;00m \u001b[38;5;129;01mnot\u001b[39;00m \u001b[43mnp\u001b[49m\u001b[43m.\u001b[49m\u001b[43marray_equal\u001b[49m\u001b[43m(\u001b[49m\n\u001b[32m    296\u001b[39m \u001b[43m    \u001b[49m\u001b[43mparam_value\u001b[49m\u001b[43m,\u001b[49m\u001b[43m \u001b[49m\u001b[43minit_default_params\u001b[49m\u001b[43m[\u001b[49m\u001b[43mparam_name\u001b[49m\u001b[43m]\u001b[49m\n\u001b[32m    297\u001b[39m \u001b[43m\u001b[49m\u001b[43m)\u001b[49m \u001b[38;5;129;01mand\u001b[39;00m \u001b[38;5;129;01mnot\u001b[39;00m (\n\u001b[32m    298\u001b[39m     is_scalar_nan(init_default_params[param_name])\n\u001b[32m    299\u001b[39m     \u001b[38;5;129;01mand\u001b[39;00m is_scalar_nan(param_value)\n\u001b[32m    300\u001b[39m ):\n\u001b[32m    301\u001b[39m     \u001b[38;5;28;01mreturn\u001b[39;00m \u001b[38;5;28;01mTrue\u001b[39;00m\n\u001b[32m    303\u001b[39m \u001b[38;5;28;01mreturn\u001b[39;00m \u001b[38;5;28;01mFalse\u001b[39;00m\n",
      "\u001b[36mFile \u001b[39m\u001b[32mc:\\Users\\SAMSUNG\\anaconda3\\envs\\deep\\Lib\\site-packages\\numpy\\_core\\numeric.py:2506\u001b[39m, in \u001b[36marray_equal\u001b[39m\u001b[34m(a1, a2, equal_nan)\u001b[39m\n\u001b[32m   2504\u001b[39m     \u001b[38;5;28;01mreturn\u001b[39;00m \u001b[38;5;28;01mFalse\u001b[39;00m\n\u001b[32m   2505\u001b[39m \u001b[38;5;28;01mif\u001b[39;00m \u001b[38;5;129;01mnot\u001b[39;00m equal_nan:\n\u001b[32m-> \u001b[39m\u001b[32m2506\u001b[39m     \u001b[38;5;28;01mreturn\u001b[39;00m builtins.bool(\u001b[43m(\u001b[49m\u001b[43ma1\u001b[49m\u001b[43m \u001b[49m\u001b[43m==\u001b[49m\u001b[43m \u001b[49m\u001b[43ma2\u001b[49m\u001b[43m)\u001b[49m\u001b[43m.\u001b[49m\u001b[43mall\u001b[49m())\n\u001b[32m   2507\u001b[39m cannot_have_nan = (_dtype_cannot_hold_nan(a1.dtype)\n\u001b[32m   2508\u001b[39m                    \u001b[38;5;129;01mand\u001b[39;00m _dtype_cannot_hold_nan(a2.dtype))\n\u001b[32m   2509\u001b[39m \u001b[38;5;28;01mif\u001b[39;00m cannot_have_nan:\n",
      "\u001b[31mAttributeError\u001b[39m: 'bool' object has no attribute 'all'"
     ]
    },
    {
     "data": {
      "text/plain": [
       "GridSearchCV(estimator=RandomForestRegressor(),\n",
       "             param_grid={'max_depth': [3, 5, 10, 12, 15],\n",
       "                         'max_features': ['sqrt', 'log2'],\n",
       "                         'min_samples_leaf': [1, 3, 5, 7],\n",
       "                         'min_samples_split': [1, 2, 5, 10]},\n",
       "             return_train_score=True)"
      ]
     },
     "execution_count": 116,
     "metadata": {},
     "output_type": "execute_result"
    }
   ],
   "source": [
    "# 하이퍼 파라메터 튜닝  gridsearch\n",
    "# 학습에 영향주는 모든 파라메터를 하이퍼 파라메터\n",
    "\n",
    "from sklearn import datasets\n",
    "from sklearn.ensemble import RandomForestRegressor\n",
    "from sklearn.model_selection import GridSearchCV\n",
    "\n",
    "# 데이터셋  예측\n",
    "diabetes = datasets.load_diabetes(as_frame=True)\n",
    "X = diabetes.data\n",
    "y = diabetes.target\n",
    "from sklearn.preprocessing import StandardScaler\n",
    "from sklearn.model_selection import train_test_split\n",
    "# 1. 적절한 데이터 전처리\n",
    "X_scaled = StandardScaler().fit_transform(X)\n",
    "x_train,x_test,y_train,y_test = train_test_split(X_scaled,y,test_size=0.2,random_state=42)\n",
    "rfr = RandomForestRegressor()\n",
    "param_grid = {\n",
    "    'max_depth':[3,5,10,12,15],\n",
    "    'max_features':['sqrt','log2'],\n",
    "    'min_samples_split': [1,2,5,10],\n",
    "    'min_samples_leaf': [1,3,5,7],\n",
    "}\n",
    "gridcv = GridSearchCV(rfr,return_train_score=True,param_grid=param_grid)\n",
    "gridcv.fit(x_train,y_train)"
   ]
  },
  {
   "cell_type": "code",
   "execution_count": 117,
   "id": "373163be",
   "metadata": {},
   "outputs": [
    {
     "data": {
      "text/plain": [
       "(np.float64(0.4431746503167364),\n",
       " {'max_depth': 10,\n",
       "  'max_features': 'sqrt',\n",
       "  'min_samples_leaf': 5,\n",
       "  'min_samples_split': 10},\n",
       " array([       nan, 0.57017774, 0.57203372, 0.56562377,        nan,\n",
       "        0.56526133, 0.56812117, 0.56010703,        nan, 0.55807724,\n",
       "        0.56138202, 0.55821477,        nan, 0.55646013, 0.55464062,\n",
       "        0.55313805,        nan, 0.56884117, 0.57171651, 0.56826914,\n",
       "               nan, 0.56411148, 0.56655124, 0.56827041,        nan,\n",
       "        0.55995359, 0.56200738, 0.56053541,        nan, 0.55429469,\n",
       "        0.55496889, 0.55199507,        nan, 0.72892297, 0.71844018,\n",
       "        0.69203643,        nan, 0.70062636, 0.6992545 , 0.68114695,\n",
       "               nan, 0.66527965, 0.66494596, 0.6649432 ,        nan,\n",
       "        0.63422958, 0.63312133, 0.63484252,        nan, 0.72961357,\n",
       "        0.71955342, 0.69334168,        nan, 0.70148935, 0.70125199,\n",
       "        0.68172024,        nan, 0.66457729, 0.6672028 , 0.66409244,\n",
       "               nan, 0.63560499, 0.63368525, 0.63157149,        nan,\n",
       "        0.90992166, 0.86938281, 0.78935031,        nan, 0.7930633 ,\n",
       "        0.79633253, 0.75036881,        nan, 0.71000273, 0.70563452,\n",
       "        0.70961041,        nan, 0.65453314, 0.65353876, 0.65399303,\n",
       "               nan, 0.90700415, 0.8694183 , 0.78761116,        nan,\n",
       "        0.79559501, 0.79388626, 0.74978841,        nan, 0.7087284 ,\n",
       "        0.70709206, 0.70656526,        nan, 0.65209189, 0.6542071 ,\n",
       "        0.65417852,        nan, 0.9194502 , 0.87613045, 0.79117195,\n",
       "               nan, 0.79687372, 0.79909864, 0.74871711,        nan,\n",
       "        0.70844135, 0.70599307, 0.70873064,        nan, 0.65419394,\n",
       "        0.6536314 , 0.65198323,        nan, 0.91868368, 0.87568503,\n",
       "        0.79160437,        nan, 0.79605174, 0.7955781 , 0.74975082,\n",
       "               nan, 0.70882706, 0.7078584 , 0.71002573,        nan,\n",
       "        0.65368825, 0.65499955, 0.65455794,        nan, 0.92184998,\n",
       "        0.877399  , 0.79173051,        nan, 0.79796968, 0.79786096,\n",
       "        0.74830564,        nan, 0.70929767, 0.70970636, 0.708204  ,\n",
       "               nan, 0.65497919, 0.65771722, 0.65500273,        nan,\n",
       "        0.92244486, 0.87784283, 0.79322257,        nan, 0.79786667,\n",
       "        0.79764501, 0.75101532,        nan, 0.70497906, 0.70863911,\n",
       "        0.70953926,        nan, 0.65433517, 0.65492981, 0.65371684]))"
      ]
     },
     "execution_count": 117,
     "metadata": {},
     "output_type": "execute_result"
    }
   ],
   "source": [
    "gridcv.best_score_, gridcv.best_params_, gridcv.cv_results_['mean_train_score']"
   ]
  }
 ],
 "metadata": {
  "kernelspec": {
   "display_name": "deep",
   "language": "python",
   "name": "python3"
  },
  "language_info": {
   "codemirror_mode": {
    "name": "ipython",
    "version": 3
   },
   "file_extension": ".py",
   "mimetype": "text/x-python",
   "name": "python",
   "nbconvert_exporter": "python",
   "pygments_lexer": "ipython3",
   "version": "3.11.13"
  }
 },
 "nbformat": 4,
 "nbformat_minor": 5
}
