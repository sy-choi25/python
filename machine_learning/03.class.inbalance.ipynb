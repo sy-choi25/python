{
 "cells": [
  {
   "cell_type": "markdown",
   "id": "eb6e5053",
   "metadata": {},
   "source": [
    "### 불균형 클래스  \n",
    "### 클래스 불균형에 대한 이해\n",
    "### 클래스 가중치 사용\n",
    "### 리샘플링 기법\n",
    "### 적절한 평가지표\n",
    "---"
   ]
  },
  {
   "cell_type": "markdown",
   "id": "7639d2b3",
   "metadata": {},
   "source": [
    "#### 불균형 데이터 생성(1:9) 악성 0 : 양성 1"
   ]
  },
  {
   "cell_type": "code",
   "execution_count": 49,
   "id": "5eb36cca",
   "metadata": {},
   "outputs": [
    {
     "name": "stdout",
     "output_type": "stream",
     "text": [
      "악성 양성의 오리지널 비율 :np.unique(y, return_counts=True)\n",
      "클래스 분포 :\n",
      "클래스 0 : 42 개 (10.5%)\n",
      "클래스 1 : 357 개 (89.5%)\n"
     ]
    }
   ],
   "source": [
    "from sklearn.datasets import load_breast_cancer\n",
    "data = load_breast_cancer()\n",
    "X,y = data.data, data.target\n",
    "np.random.seed(10)\n",
    "\n",
    "\n",
    "# 악성을 소수 클래스로 생성\n",
    "import numpy as np\n",
    "\n",
    "print(f'악성 양성의 오리지널 비율 :np.unique(y, return_counts=True)')        # np.unique() : 넘파이(Numpy)의 고유값(중복 없는 값) 을 찾는 함수/ return_counts=True : 각 고유값이 몇 번씩 등장했는지 개수를 같이 반환하라는 옵션\n",
    "m_index = np.where(y==0)[0]      # 악성 index 반환 / np.where(조건식) 조건을 만족하는 원소의 인덱스(위치) 를 반환/ np.where()의 반환형은 튜플(tuple) 입니다.즉, (인덱스배열,) 형태로 나와요. 그래서 [0]을 붙여서 진짜 “인덱스 배열”만 꺼내는 겁\n",
    "b_index = np.where(y==1)[0]      # 양성 index 반환 \n",
    "\n",
    "# 악성을 일부만, 양성을 더 많이 사용\n",
    "# 악성의 30%만 사용, 양성은 전체 1.5: 8.5 비율\n",
    "size_30 = int(len(m_index)*0.2)\n",
    "seleted_m_index = np.random.choice(m_index,size=size_30,replace=False)\n",
    "seleted_b_index = b_index\n",
    "\n",
    "concatenate_selected_index = np.concatenate([seleted_m_index,seleted_b_index]) # 두 개를 하나로 합친다\n",
    "np.random.shuffle(concatenate_selected_index) # 위에서 합친 리스트를 섞어준다\n",
    "\n",
    "X_imb = X[concatenate_selected_index]\n",
    "y_imb = y[concatenate_selected_index]\n",
    "\n",
    "# 클래스 분포 확인\n",
    "unique, counts = np.unique(y_imb,return_counts=True)\n",
    "print('클래스 분포 :')\n",
    "for label, count in zip(unique,counts):\n",
    "    percentage = count / len(y_imb) * 100\n",
    "    print(f'클래스 {label} : {count} 개 ({percentage:.1f}%)')\n",
    "\n",
    "# 불균형인 상태로 진행\n",
    "# 스케일링 정규화 StandatdScaler\n",
    "# LogisticRegrassion\n",
    "# Pipe\n",
    "# 평가는 class report\n"
   ]
  },
  {
   "cell_type": "code",
   "execution_count": 50,
   "id": "5c53b563",
   "metadata": {},
   "outputs": [
    {
     "name": "stdout",
     "output_type": "stream",
     "text": [
      "1. 기본 모델 (불균형 무시)\n",
      "              precision    recall  f1-score   support\n",
      "\n",
      "       악성(0)       1.00      0.75      0.86         8\n",
      "       양성(1)       0.97      1.00      0.99        72\n",
      "\n",
      "    accuracy                           0.97        80\n",
      "   macro avg       0.99      0.88      0.92        80\n",
      "weighted avg       0.98      0.97      0.97        80\n",
      "\n"
     ]
    }
   ],
   "source": [
    "from sklearn.pipeline import Pipeline\n",
    "from sklearn.preprocessing import StandardScaler\n",
    "from sklearn.linear_model import LogisticRegression \n",
    "from sklearn.model_selection import train_test_split\n",
    "from sklearn.metrics import classification_report\n",
    "\n",
    "# 데이터 분류\n",
    "x_train, x_test, y_train, y_test = train_test_split(X_imb,y_imb, stratify=y_imb,test_size=0.2,random_state=42)\n",
    "\n",
    "print('1. 기본 모델 (불균형 무시)')\n",
    "pipe = Pipeline ([\n",
    "    ('scaler',StandardScaler()),\n",
    "    ('clf',LogisticRegression(random_state=42,max_iter=1000))\n",
    "])\n",
    "pipe.fit(x_train,y_train)\n",
    "print(classification_report(y_test,pipe.predict(x_test), target_names=['악성(0)', '양성(1)']))"
   ]
  },
  {
   "cell_type": "code",
   "execution_count": 61,
   "id": "ce63be3b",
   "metadata": {},
   "outputs": [
    {
     "name": "stdout",
     "output_type": "stream",
     "text": [
      "불균형 해결 : 클래스 가중치 사용\n",
      "              precision    recall  f1-score   support\n",
      "\n",
      "           0       0.88      0.88      0.88         8\n",
      "           1       0.99      0.99      0.99        72\n",
      "\n",
      "    accuracy                           0.97        80\n",
      "   macro avg       0.93      0.93      0.93        80\n",
      "weighted avg       0.97      0.97      0.97        80\n",
      "\n",
      "가중치 계산\n",
      "클래스 : 0 : 4.691\n",
      "클래스 : 1 : 0.560\n"
     ]
    }
   ],
   "source": [
    "\n",
    "print('불균형 해결 : 클래스 가중치 사용')\n",
    "# 기존파이프라인의 clf 이름의 객체의 파라메터를 조정\n",
    "from copy import deepcopy\n",
    "pipe_weight = deepcopy(pipe)\n",
    "pipe_weight.set_params(clf__class_weight = 'balanced')\n",
    "\n",
    "# pipe_weight = Pipeline([\n",
    "#     ('scaler',StandardScaler()),\n",
    "#     ('clf', LogisticRegression(random_state=10,max_iter=1000,class_weight = 'balanced'))\n",
    "# ])\n",
    "\n",
    "\n",
    "pipe_weight.fit(x_train,y_train)\n",
    "print( classification_report(y_test, pipe_weight.predict(x_test)  )   )\n",
    "\n",
    "print('가중치 계산')\n",
    "n_samples = len(y_train)\n",
    "n_classes = 2\n",
    "class_counts = np.bincount(y_train)\n",
    "for i in range(n_classes):\n",
    "    weight = n_samples / (n_classes * class_counts[i])\n",
    "    print(f'클래스 : {i} : {weight:.3f}')"
   ]
  },
  {
   "cell_type": "code",
   "execution_count": 62,
   "id": "f7e24f8d",
   "metadata": {},
   "outputs": [
    {
     "name": "stdout",
     "output_type": "stream",
     "text": [
      "불균형 : RandomFores (균형모드)\n",
      "              precision    recall  f1-score   support\n",
      "\n",
      "           0       1.00      0.62      0.77         8\n",
      "           1       0.96      1.00      0.98        72\n",
      "\n",
      "    accuracy                           0.96        80\n",
      "   macro avg       0.98      0.81      0.87        80\n",
      "weighted avg       0.96      0.96      0.96        80\n",
      "\n"
     ]
    }
   ],
   "source": [
    "# 랜덤포레스트\n",
    "from sklearn.ensemble import RandomForestClassifier\n",
    "print('불균형 : RandomFores (균형모드)')\n",
    "pipe_rf = Pipeline([\n",
    "    ('scaler',StandardScaler()),\n",
    "    ('clf',RandomForestClassifier(class_weight = 'balanced',random_state = 42))\n",
    "])\n",
    "pipe_rf.fit(x_train,y_train)\n",
    "y_pred = pipe_rf.predict(x_test)\n",
    "print(classification_report(y_test,y_pred))"
   ]
  },
  {
   "cell_type": "code",
   "execution_count": 63,
   "id": "b7fd6565",
   "metadata": {},
   "outputs": [
    {
     "name": "stdout",
     "output_type": "stream",
     "text": [
      "Collecting imbalanced-learn\n",
      "  Using cached imbalanced_learn-0.14.0-py3-none-any.whl.metadata (8.8 kB)\n",
      "Requirement already satisfied: numpy<3,>=1.25.2 in c:\\users\\samsung\\anaconda3\\envs\\deep\\lib\\site-packages (from imbalanced-learn) (2.0.1)\n",
      "Requirement already satisfied: scipy<2,>=1.11.4 in c:\\users\\samsung\\anaconda3\\envs\\deep\\lib\\site-packages (from imbalanced-learn) (1.16.0)\n",
      "Requirement already satisfied: scikit-learn<2,>=1.4.2 in c:\\users\\samsung\\anaconda3\\envs\\deep\\lib\\site-packages (from imbalanced-learn) (1.7.1)\n",
      "Requirement already satisfied: joblib<2,>=1.2.0 in c:\\users\\samsung\\anaconda3\\envs\\deep\\lib\\site-packages (from imbalanced-learn) (1.5.2)\n",
      "Requirement already satisfied: threadpoolctl<4,>=2.0.0 in c:\\users\\samsung\\anaconda3\\envs\\deep\\lib\\site-packages (from imbalanced-learn) (3.5.0)\n",
      "Using cached imbalanced_learn-0.14.0-py3-none-any.whl (239 kB)\n",
      "Installing collected packages: imbalanced-learn\n",
      "Successfully installed imbalanced-learn-0.14.0\n",
      "Note: you may need to restart the kernel to use updated packages.\n"
     ]
    }
   ],
   "source": [
    "%pip install imbalanced-learn"
   ]
  },
  {
   "cell_type": "code",
   "execution_count": 68,
   "id": "539e5746",
   "metadata": {},
   "outputs": [],
   "source": [
    "# 오버, 언더 샘플링  smote, smoteen 사용해서\n",
    "\n",
    "from imblearn.under_sampling import RandomUnderSampler\n",
    "rus = RandomUnderSampler(random_state=42)\n",
    "X_resampled, y_resampled = rus.fit_resample(X_imb,y_imb)\n"
   ]
  }
 ],
 "metadata": {
  "kernelspec": {
   "display_name": "deep",
   "language": "python",
   "name": "python3"
  },
  "language_info": {
   "codemirror_mode": {
    "name": "ipython",
    "version": 3
   },
   "file_extension": ".py",
   "mimetype": "text/x-python",
   "name": "python",
   "nbconvert_exporter": "python",
   "pygments_lexer": "ipython3",
   "version": "3.11.13"
  }
 },
 "nbformat": 4,
 "nbformat_minor": 5
}
