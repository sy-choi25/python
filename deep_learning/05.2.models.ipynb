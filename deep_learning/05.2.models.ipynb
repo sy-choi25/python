{
 "cells": [
  {
   "cell_type": "code",
   "execution_count": 1,
   "id": "1785dd02",
   "metadata": {},
   "outputs": [],
   "source": [
    "\n",
    "# 데이터 \n",
    "import torch\n",
    "A_length = [25.4, 26.3, 26.5, 29.0, 29.0, 29.7, 29.7, 30.0, 30.0, 30.7, 31.0, 31.0, 31.5, 32.0, 32.0, 32.0, 33.0, 33.0, 33.5, 33.5, 34.0, 34.0, 34.5, 35.0, 35.0, 35.0, 35.0, 36.0, 36.0, 37.0, 38.5, 38.5, 39.5, 41.0, 41.0]\n",
    "A_weight = [242.0, 290.0, 340.0, 363.0, 430.0, 450.0, 500.0, 390.0, 450.0, 500.0, 475.0, 500.0, 500.0, 340.0, 600.0, 600.0, 700.0, 700.0, 610.0, 650.0, 575.0, 685.0, 620.0, 680.0, 700.0, 725.0, 720.0, 714.0, 850.0, 1000.0, 920.0, 955.0, 925.0, 975.0, 950.0]\n",
    "B_length = [9.8, 10.5, 10.6, 11.0, 11.2, 11.3, 11.8, 11.8, 12.0, 12.2, 12.4, 13.0, 14.3, 15.0]\n",
    "B_weight = [6.7, 7.5, 7.0, 9.7, 9.8, 8.7, 10.0, 9.9, 9.8, 12.2, 13.4, 12.2, 19.7, 19.9]\n",
    "length = A_length + B_length\n",
    "weight = A_weight + B_weight\n",
    "X = torch.tensor([[a, b] for a, b in zip(length, weight)], dtype=torch.float32)\n",
    "y = torch.tensor([1]*len(A_length) + [0]*len(B_length), dtype=torch.long)"
   ]
  },
  {
   "cell_type": "code",
   "execution_count": 2,
   "id": "1502e712",
   "metadata": {},
   "outputs": [],
   "source": [
    "\n",
    "import torch\n",
    "import torch.nn as nn\n",
    "model = nn.Sequential(\n",
    "    nn.Linear( 2, 8 ),\n",
    "    nn.ReLU(),\n",
    "    nn.Linear( 8, 4 ),\n",
    "    nn.ReLU(),\n",
    "    nn.Linear( 4, 2 )  # output        \n",
    ")"
   ]
  },
  {
   "cell_type": "code",
   "execution_count": 3,
   "id": "6f91b4f2",
   "metadata": {},
   "outputs": [
    {
     "name": "stdout",
     "output_type": "stream",
     "text": [
      "Epoch [50/300]  Loss: 0.2584  Accuracy: 100.00%\n",
      "Epoch [100/300]  Loss: 0.1465  Accuracy: 100.00%\n",
      "Epoch [150/300]  Loss: 0.0929  Accuracy: 100.00%\n",
      "Epoch [200/300]  Loss: 0.0644  Accuracy: 100.00%\n",
      "Epoch [250/300]  Loss: 0.0476  Accuracy: 100.00%\n",
      "Epoch [300/300]  Loss: 0.0368  Accuracy: 100.00%\n",
      "\n",
      "Final Accuracy: 100.00%\n",
      "output: tensor([[-1.1770,  0.5087],\n",
      "        [ 6.3855, -3.8771]])\n",
      "Predicted class: tensor([1, 0])\n"
     ]
    }
   ],
   "source": [
    "import torch.optim as optim\n",
    "criterion = nn.CrossEntropyLoss()\n",
    "optimizer = optim.Adam(model.parameters(), lr=0.01)\n",
    "\n",
    "epochs = 300\n",
    "for epoch in range(epochs):\n",
    "    optimizer.zero_grad()\n",
    "    outputs = model(X)\n",
    "    loss = criterion(outputs, y)\n",
    "    loss.backward()\n",
    "    optimizer.step()\n",
    "    \n",
    "    if (epoch+1) % 50 == 0:\n",
    "        _, predicted = torch.max(outputs, 1)\n",
    "        accuracy = (predicted == y).float().mean()\n",
    "        print(f\"Epoch [{epoch+1}/{epochs}]  Loss: {loss.item():.4f}  Accuracy: {accuracy*100:.2f}%\")\n",
    "\n",
    "\n",
    "with torch.no_grad():\n",
    "    outputs = model(X)\n",
    "    _, predicted = torch.max(outputs, 1)\n",
    "    acc = (predicted == y).float().mean()\n",
    "    print(f\"\\nFinal Accuracy: {acc*100:.2f}%\")\n",
    "\n",
    "    # 샘플 테스트\n",
    "    sample = torch.tensor([[25.0, 150.0], [12.0, 10.0]], dtype=torch.float32)\n",
    "    pred = model(sample)\n",
    "    print(\"output:\", pred)\n",
    "    print(\"Predicted class:\", torch.argmax(pred, dim=1))"
   ]
  }
 ],
 "metadata": {
  "kernelspec": {
   "display_name": "deep",
   "language": "python",
   "name": "python3"
  },
  "language_info": {
   "codemirror_mode": {
    "name": "ipython",
    "version": 3
   },
   "file_extension": ".py",
   "mimetype": "text/x-python",
   "name": "python",
   "nbconvert_exporter": "python",
   "pygments_lexer": "ipython3",
   "version": "3.11.13"
  }
 },
 "nbformat": 4,
 "nbformat_minor": 5
}
