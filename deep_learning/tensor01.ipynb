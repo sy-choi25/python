{
 "cells": [
  {
   "cell_type": "code",
   "execution_count": null,
   "id": "46f26832",
   "metadata": {},
   "outputs": [],
   "source": [
    "# Tensor\n",
    "# 데이터를 저장하는 다차원 배열"
   ]
  }
 ],
 "metadata": {
  "language_info": {
   "name": "python"
  }
 },
 "nbformat": 4,
 "nbformat_minor": 5
}
