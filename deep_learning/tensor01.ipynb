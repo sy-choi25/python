{
 "cells": [
  {
   "cell_type": "code",
   "execution_count": 1,
   "id": "46f26832",
   "metadata": {},
   "outputs": [],
   "source": [
    "# Tensor\n",
    "# 데이터를 저장하는 다차원 배열 또는 컨테이너\n",
    "# 딥러닝이 학습할 때 사용하는 자료구조\n",
    "# 스칼라(0차원 텐서) - 단일 데이터\n",
    "# 벡터(1차원 텐서) : 리스트 형태 [1, 2, 3, 4]\n",
    "# 행렬 (2차원 텐서) : 행과 열로 이루어진 데이터 표데이터, 흑백 이미지\n",
    "# (3차원 텐서) : 컬러 이미지, 흑백이미지 + 채널정보 (R G B) \n",
    "# 고차원텐서 : 동영상, 이미지개수 X 가로픽셀 X 세로픽셀 X 채널정보\n",
    "\n",
    "# 데이터의 표준 형식 : 일관된 숫자 형식\n",
    "# 효율적인 계산 : GPU 지원 병렬연산에 유리\n",
    "# 딥러닝 프레임워크 : 텐서플로, 파이토치"
   ]
  },
  {
   "cell_type": "code",
   "execution_count": 3,
   "id": "e23c479c",
   "metadata": {},
   "outputs": [
    {
     "name": "stdout",
     "output_type": "stream",
     "text": [
      "Requirement already satisfied: torch in c:\\users\\samsung\\miniconda3\\lib\\site-packages (2.9.0)\n",
      "Requirement already satisfied: torchvision in c:\\users\\samsung\\miniconda3\\lib\\site-packages (0.24.0)\n",
      "Requirement already satisfied: filelock in c:\\users\\samsung\\miniconda3\\lib\\site-packages (from torch) (3.20.0)\n",
      "Requirement already satisfied: typing-extensions>=4.10.0 in c:\\users\\samsung\\miniconda3\\lib\\site-packages (from torch) (4.12.2)\n",
      "Requirement already satisfied: sympy>=1.13.3 in c:\\users\\samsung\\miniconda3\\lib\\site-packages (from torch) (1.14.0)\n",
      "Requirement already satisfied: networkx>=2.5.1 in c:\\users\\samsung\\miniconda3\\lib\\site-packages (from torch) (3.5)\n",
      "Requirement already satisfied: jinja2 in c:\\users\\samsung\\miniconda3\\lib\\site-packages (from torch) (3.1.6)\n",
      "Requirement already satisfied: fsspec>=0.8.5 in c:\\users\\samsung\\miniconda3\\lib\\site-packages (from torch) (2025.9.0)\n",
      "Requirement already satisfied: setuptools in c:\\users\\samsung\\miniconda3\\lib\\site-packages (from torch) (78.1.1)\n",
      "Requirement already satisfied: numpy in c:\\users\\samsung\\miniconda3\\lib\\site-packages (from torchvision) (2.3.4)\n",
      "Requirement already satisfied: pillow!=8.3.*,>=5.3.0 in c:\\users\\samsung\\miniconda3\\lib\\site-packages (from torchvision) (12.0.0)\n",
      "Requirement already satisfied: mpmath<1.4,>=1.1.0 in c:\\users\\samsung\\miniconda3\\lib\\site-packages (from sympy>=1.13.3->torch) (1.3.0)\n",
      "Requirement already satisfied: MarkupSafe>=2.0 in c:\\users\\samsung\\miniconda3\\lib\\site-packages (from jinja2->torch) (3.0.3)\n",
      "Note: you may need to restart the kernel to use updated packages.\n"
     ]
    }
   ],
   "source": [
    "%pip install torch  torchvision"
   ]
  },
  {
   "cell_type": "code",
   "execution_count": 2,
   "id": "0504e375",
   "metadata": {},
   "outputs": [
    {
     "data": {
      "text/plain": [
       "tensor([[0., 0., 0., 0.],\n",
       "        [0., 0., 0., 0.],\n",
       "        [0., 0., 0., 0.]])"
      ]
     },
     "execution_count": 2,
     "metadata": {},
     "output_type": "execute_result"
    }
   ],
   "source": [
    "# 기본연산\n",
    "import torch\n",
    "# 빈 텐서 생성\n",
    "x = torch.empty(3,4)\n",
    "x"
   ]
  },
  {
   "cell_type": "code",
   "execution_count": 3,
   "id": "df21f122",
   "metadata": {},
   "outputs": [
    {
     "data": {
      "text/plain": [
       "tensor([[0.2071, 0.0623, 0.9565, 0.1126],\n",
       "        [0.8994, 0.3011, 0.1284, 0.4706],\n",
       "        [0.2240, 0.4634, 0.9002, 0.8848]])"
      ]
     },
     "execution_count": 3,
     "metadata": {},
     "output_type": "execute_result"
    }
   ],
   "source": [
    "# 랜덤 텐서\n",
    "torch.rand(3,4)"
   ]
  },
  {
   "cell_type": "code",
   "execution_count": 6,
   "id": "5e7a70b6",
   "metadata": {},
   "outputs": [
    {
     "data": {
      "text/plain": [
       "tensor([[0, 0, 0, 0],\n",
       "        [0, 0, 0, 0],\n",
       "        [0, 0, 0, 0]])"
      ]
     },
     "execution_count": 6,
     "metadata": {},
     "output_type": "execute_result"
    }
   ],
   "source": [
    "# 0으로 텐서 초기화\n",
    "torch.zeros(3,4,dtype=torch.long)"
   ]
  },
  {
   "cell_type": "code",
   "execution_count": null,
   "id": "3a9923d7",
   "metadata": {},
   "outputs": [
    {
     "data": {
      "text/plain": [
       "tensor([1., 1., 1.])"
      ]
     },
     "execution_count": 3,
     "metadata": {},
     "output_type": "execute_result"
    }
   ],
   "source": [
    "# 1로 채워진 텐서\n",
    "torch.ones(3,4,dtype=torch.long)"
   ]
  },
  {
   "cell_type": "code",
   "execution_count": 8,
   "id": "4d8d3718",
   "metadata": {},
   "outputs": [],
   "source": [
    "import numpy as np"
   ]
  },
  {
   "cell_type": "code",
   "execution_count": null,
   "id": "19ebf56d",
   "metadata": {},
   "outputs": [
    {
     "data": {
      "text/plain": [
       "array([3.5, 3. , 2.1])"
      ]
     },
     "execution_count": 9,
     "metadata": {},
     "output_type": "execute_result"
    }
   ],
   "source": [
    "# 토치와 넘파이와 출력 형식 비교\n",
    "\n",
    "torch.tensor([3.5,3,2.1])\n",
    "np.array([3.5,3,2.1])\n"
   ]
  },
  {
   "cell_type": "code",
   "execution_count": 10,
   "id": "74d35827",
   "metadata": {},
   "outputs": [
    {
     "data": {
      "text/plain": [
       "(tensor([[1., 1., 1., 1.],\n",
       "         [1., 1., 1., 1.],\n",
       "         [1., 1., 1., 1.]]),\n",
       " tensor([[-0.7674,  0.8203,  1.9121, -0.7247],\n",
       "         [-0.1061, -2.4972, -0.8974,  1.4369],\n",
       "         [ 1.2825,  0.4118, -1.2786,  0.1976]]))"
      ]
     },
     "execution_count": 10,
     "metadata": {},
     "output_type": "execute_result"
    }
   ],
   "source": [
    "# 기존의 텐서를 기반으로 새로운 텐서 생성\n",
    "x = torch.ones(3,4)\n",
    "y = torch.randn_like(x, dtype=torch.float)\n",
    "x, y"
   ]
  },
  {
   "cell_type": "code",
   "execution_count": 11,
   "id": "74702400",
   "metadata": {},
   "outputs": [
    {
     "data": {
      "text/plain": [
       "(tensor([[0.2445, 0.7993, 0.4054, 0.3959],\n",
       "         [0.2072, 0.1102, 0.7913, 0.7185],\n",
       "         [0.0304, 0.4948, 0.4266, 0.8702]]),\n",
       " tensor([[0.3851, 0.7097, 0.3283, 0.1217],\n",
       "         [0.6472, 0.7246, 0.9396, 0.1053],\n",
       "         [0.8134, 0.2055, 0.3147, 0.1432]]),\n",
       " tensor([[0.6295, 1.5090, 0.7337, 0.5175],\n",
       "         [0.8544, 0.8348, 1.7309, 0.8239],\n",
       "         [0.8438, 0.7003, 0.7413, 1.0134]]))"
      ]
     },
     "execution_count": 11,
     "metadata": {},
     "output_type": "execute_result"
    }
   ],
   "source": [
    "# 덧셈\n",
    "\n",
    "import torch\n",
    "x=torch.rand(3,4)\n",
    "y=torch.rand(3,4)\n",
    "\n",
    "x,y, x+y"
   ]
  },
  {
   "cell_type": "code",
   "execution_count": 12,
   "id": "b71a6762",
   "metadata": {},
   "outputs": [
    {
     "data": {
      "text/plain": [
       "tensor([[0.6295, 1.5090, 0.7337, 0.5175],\n",
       "        [0.8544, 0.8348, 1.7309, 0.8239],\n",
       "        [0.8438, 0.7003, 0.7413, 1.0134]])"
      ]
     },
     "execution_count": 12,
     "metadata": {},
     "output_type": "execute_result"
    }
   ],
   "source": [
    "# 덧셈 함수로도 가능\n",
    "torch.add(x,y)"
   ]
  },
  {
   "cell_type": "code",
   "execution_count": 13,
   "id": "70948dcd",
   "metadata": {},
   "outputs": [
    {
     "data": {
      "text/plain": [
       "tensor([[0.6295, 1.5090, 0.7337, 0.5175],\n",
       "        [0.8544, 0.8348, 1.7309, 0.8239],\n",
       "        [0.8438, 0.7003, 0.7413, 1.0134]])"
      ]
     },
     "execution_count": 13,
     "metadata": {},
     "output_type": "execute_result"
    }
   ],
   "source": [
    "# in-place y = y + x    y += x\n",
    "y.add_(x)"
   ]
  },
  {
   "cell_type": "code",
   "execution_count": 14,
   "id": "efdbdcd6",
   "metadata": {},
   "outputs": [
    {
     "data": {
      "text/plain": [
       "(tensor([[0.8789, 0.1202, 0.7582, 0.0641],\n",
       "         [0.7866, 0.0862, 0.8859, 0.2963],\n",
       "         [0.9622, 0.2730, 0.2760, 0.7717]]),\n",
       " tensor([[0.8764, 0.2410, 0.1000, 0.1087, 0.9015],\n",
       "         [0.5523, 0.7982, 0.5530, 0.2930, 0.2929],\n",
       "         [0.7572, 0.4024, 0.4129, 0.4574, 0.0666],\n",
       "         [0.3375, 0.4961, 0.6295, 0.3397, 0.8224]]),\n",
       " tensor([[1.4324, 0.6446, 0.5077, 0.4993, 0.9308],\n",
       "         [1.5078, 0.7618, 0.6787, 0.6166, 1.0371],\n",
       "         [1.4635, 0.9437, 0.8470, 0.5729, 1.6005]]),\n",
       " tensor([[1.4324, 0.6446, 0.5077, 0.4993, 0.9308],\n",
       "         [1.5078, 0.7618, 0.6787, 0.6166, 1.0371],\n",
       "         [1.4635, 0.9437, 0.8470, 0.5729, 1.6005]]))"
      ]
     },
     "execution_count": 14,
     "metadata": {},
     "output_type": "execute_result"
    }
   ],
   "source": [
    "# 행렬의 곱셉\n",
    "x=torch.rand(3,4)\n",
    "y=torch.rand(4,5)\n",
    "x,y, torch.mm(x,y),x@y   # 파이썬 3.5부터 x@y 로도 표현 가능  # 다른차원의 곱셉은 (3,4) (4,5) --> 3x5\n"
   ]
  },
  {
   "cell_type": "code",
   "execution_count": 15,
   "id": "f5ec0775",
   "metadata": {},
   "outputs": [
    {
     "data": {
      "text/plain": [
       "tensor([1, 4, 9])"
      ]
     },
     "execution_count": 15,
     "metadata": {},
     "output_type": "execute_result"
    }
   ],
   "source": [
    "x = torch.tensor([1,2,3])\n",
    "y = torch.tensor([1,2,3])\n",
    "x*y"
   ]
  },
  {
   "cell_type": "code",
   "execution_count": 16,
   "id": "4b088902",
   "metadata": {},
   "outputs": [
    {
     "data": {
      "text/plain": [
       "(tensor(0.8195), 0.8194689154624939, torch.Tensor, float)"
      ]
     },
     "execution_count": 16,
     "metadata": {},
     "output_type": "execute_result"
    }
   ],
   "source": [
    "# 슬라이싱 가능\n",
    "x = torch.rand(4,5)\n",
    "x[0,2:]\n",
    "x[1,1], x[1,1].item() ,type(x[1,1]), type(x[1,1].item())"
   ]
  },
  {
   "cell_type": "code",
   "execution_count": 17,
   "id": "4b991e41",
   "metadata": {},
   "outputs": [],
   "source": [
    "# 텐서 모양 변경  view => reshape \n",
    "# 텐서 모양 확인  size -> shape  \n",
    "# 가독성 --- view size 사용되었다는 것은 해당 자료구조가 텐서라는 것을 명시"
   ]
  },
  {
   "cell_type": "code",
   "execution_count": 18,
   "id": "a2a27900",
   "metadata": {},
   "outputs": [
    {
     "data": {
      "text/plain": [
       "(tensor([[0.0143, 0.9835, 0.9971, 0.9217],\n",
       "         [0.9702, 0.3167, 0.8437, 0.5553],\n",
       "         [0.2086, 0.3359, 0.9231, 0.6352],\n",
       "         [0.8773, 0.4749, 0.9489, 0.4761]]),\n",
       " tensor([0.0143, 0.9835, 0.9971, 0.9217, 0.9702, 0.3167, 0.8437, 0.5553, 0.2086,\n",
       "         0.3359, 0.9231, 0.6352, 0.8773, 0.4749, 0.9489, 0.4761]),\n",
       " torch.Size([4, 4]),\n",
       " torch.Size([16]))"
      ]
     },
     "execution_count": 18,
     "metadata": {},
     "output_type": "execute_result"
    }
   ],
   "source": [
    "# 텐서 크기 변경 reshape,view    numpy동일한 기능 reshape\n",
    "import torch\n",
    "x = torch.rand(4,4)\n",
    "y = x.view(-1)      # -1은 자동계산\n",
    "x,y,x.shape,y.shape"
   ]
  },
  {
   "cell_type": "code",
   "execution_count": 19,
   "id": "f1dec3f0",
   "metadata": {},
   "outputs": [
    {
     "data": {
      "text/plain": [
       "tensor([[0.0143, 0.9835, 0.9971, 0.9217, 0.9702, 0.3167, 0.8437, 0.5553],\n",
       "        [0.2086, 0.3359, 0.9231, 0.6352, 0.8773, 0.4749, 0.9489, 0.4761]])"
      ]
     },
     "execution_count": 19,
     "metadata": {},
     "output_type": "execute_result"
    }
   ],
   "source": [
    "# x는 4x4\n",
    "x.view(2,8)\n",
    "x.view(-1,8)            # -1 자동계산\n",
    "x.view(2,-1)"
   ]
  },
  {
   "cell_type": "code",
   "execution_count": 20,
   "id": "b06781ba",
   "metadata": {},
   "outputs": [
    {
     "data": {
      "text/plain": [
       "<function Tensor.size>"
      ]
     },
     "execution_count": 20,
     "metadata": {},
     "output_type": "execute_result"
    }
   ],
   "source": [
    "x.size"
   ]
  },
  {
   "cell_type": "code",
   "execution_count": null,
   "id": "5bcc6011",
   "metadata": {},
   "outputs": [
    {
     "data": {
      "text/plain": [
       "array([1., 1., 1., 1., 1.], dtype=float32)"
      ]
     },
     "execution_count": 5,
     "metadata": {},
     "output_type": "execute_result"
    }
   ],
   "source": [
    "# 텐서 -> 넘파이\n",
    "import torch\n",
    "import numpy as np\n",
    "a = torch.ones(5)\n",
    "# np.array(5)\n",
    "a.numpy()"
   ]
  },
  {
   "cell_type": "code",
   "execution_count": 22,
   "id": "5020e74b",
   "metadata": {},
   "outputs": [
    {
     "data": {
      "text/plain": [
       "tensor([1, 2, 3, 4, 5])"
      ]
     },
     "execution_count": 22,
     "metadata": {},
     "output_type": "execute_result"
    }
   ],
   "source": [
    "# 넘파이 -> 텐서\n",
    "\n",
    "a = np.array([1,2,3,4,5])\n",
    "torch.from_numpy(a)"
   ]
  },
  {
   "cell_type": "code",
   "execution_count": 15,
   "id": "0c6c8905",
   "metadata": {},
   "outputs": [
    {
     "name": "stdout",
     "output_type": "stream",
     "text": [
      "CUDA를 사용할 수 없습니다\n"
     ]
    }
   ],
   "source": [
    "# GPU 사용\n",
    "import torch\n",
    "if torch.cuda.is_available():\n",
    "    device = torch.device('cuda')  # cuda는 GPU\n",
    "    # 텐서들은 GPU에서 연산해야되기 떄문에 생성을 GPU에서 생성\n",
    "    x = torch.ones(5, device=device)        # gpu에서 생성\n",
    "    y = torch.ones(5)                       # cpu에서 생성\n",
    "    y = y.to(device)                        # cpu -> gpu로 생성\n",
    "    z = x +y\n",
    "    print(f'GPU 생성결과: {z}')\n",
    "    print(f'다시 CPU로 : {z.to(\"cpu\",torch.double)} ')\n",
    "else:\n",
    "    print('CUDA를 사용할 수 없습니다')\n",
    "    device = torch.device('cpu')\n"
   ]
  },
  {
   "cell_type": "code",
   "execution_count": null,
   "id": "e09c8b8a",
   "metadata": {},
   "outputs": [],
   "source": [
    "# 행렬의 곱셈 공식\n",
    "# (x, y)  * (x1, y1)\n",
    "# y와 x1의 차수는 같아야 한다 (2,4) (2,10)\n",
    "\n",
    "\n",
    "# 행렬곱의 결과는 x, y1     (2,10)\n",
    "\n",
    "# 텐서는 딥러닝을 위해 만든 자료구조, 내부에 gpu 연산에 특화된 구조 일반적인 모양은 넘파이와 동일\n",
    "# 텐서는 gpu 연산을 지원한다"
   ]
  },
  {
   "cell_type": "code",
   "execution_count": null,
   "id": "b974f39e",
   "metadata": {},
   "outputs": [],
   "source": [
    "# 자동미분(Autograd) 매 계산 과정마다 해당 계산과정의 미분값을 저장\n",
    "# 파이토치 required_grad = True 로 설정하면 계산그래프라는 형태로 기록 - 동영상 녹화와 비슷한 원리\n",
    "# .backword() 호출하면 이 과정을 거꾸로 되감으면서 각 단계의 미분값을 계산해 최종 기울기를 얻는다"
   ]
  },
  {
   "cell_type": "code",
   "execution_count": 6,
   "id": "9558a880",
   "metadata": {},
   "outputs": [
    {
     "data": {
      "text/plain": [
       "(tensor([[1., 1.],\n",
       "         [1., 1.]], requires_grad=True),\n",
       " torch.Size([2, 2]))"
      ]
     },
     "execution_count": 6,
     "metadata": {},
     "output_type": "execute_result"
    }
   ],
   "source": [
    "x = torch.ones(2,2, requires_grad=True)\n",
    "x,  x.size()"
   ]
  },
  {
   "cell_type": "code",
   "execution_count": null,
   "id": "6d80600f",
   "metadata": {},
   "outputs": [
    {
     "name": "stdout",
     "output_type": "stream",
     "text": [
      "tensor([[3., 3.],\n",
      "        [3., 3.]], grad_fn=<AddBackward0>) <AddBackward0 object at 0x0000029F4C3E0100>\n"
     ]
    },
    {
     "data": {
      "text/plain": [
       "(tensor([[27., 27.],\n",
       "         [27., 27.]], grad_fn=<MulBackward0>),\n",
       " tensor(27., grad_fn=<MeanBackward0>))"
      ]
     },
     "execution_count": 7,
     "metadata": {},
     "output_type": "execute_result"
    }
   ],
   "source": [
    "y = x + 2   # y도 계산 그래프에 추가\n",
    "print(y, y.grad_fn)     # grad_fn = gradient function\n",
    "z = y*y*3               # z=3(x+2)**2 와 같은 의미\n",
    "out = z.mean()          # backwoard()는 스칼라값(1개의 숫자)일때만 자동으로 미분을 계산할 수 있기 떄문에, 손실함수의 평균을 내서 하나의 값으로 만들어주는 것\n",
    "z, out"
   ]
  },
  {
   "cell_type": "code",
   "execution_count": null,
   "id": "4e012e2b",
   "metadata": {},
   "outputs": [],
   "source": [
    "# 기울기 구하는 과정을   역전파 -> 기울기 계산\n",
    "# 최종결과가 out에서부터 시작해서 계산그래프를 거꾸로 거슬러 올라가면서 미분의 연쇄법칙을 사용해서 미분값을 계산\n",
    "# out을 x에 대해서 미분\n",
    "out.backward()\n",
    "x.grad"
   ]
  },
  {
   "cell_type": "code",
   "execution_count": null,
   "id": "ffbc754c",
   "metadata": {},
   "outputs": [],
   "source": [
    "# out = 1/4(z1+z2+z3+z4)\n",
    "# z + 3y^2\n",
    "# y = x +2\n",
    "\n",
    "# d-out/dxi = "
   ]
  },
  {
   "cell_type": "code",
   "execution_count": null,
   "id": "003d3344",
   "metadata": {},
   "outputs": [
    {
     "name": "stdout",
     "output_type": "stream",
     "text": [
      "tensor([0.4401, 2.0569, 0.7041], requires_grad=True)\n",
      "tensor([0.8801, 4.1139, 1.4082], grad_fn=<MulBackward0>)\n",
      "y:tensor([ 225.3133, 1053.1520,  360.5077], grad_fn=<MulBackward0>)\n",
      "반복횟수 : 8\n",
      "x.grad : tensor([5.1200e+01, 5.1200e+02, 5.1200e-02])\n"
     ]
    }
   ],
   "source": [
    "# 기울기 제어\n",
    "# 역전파, torch.no_grad, detech\n",
    "# requied_grad =    True 연산추적\n",
    "import torch\n",
    "x = torch.randn(3, requires_grad=True)\n",
    "print(x)\n",
    "# y는 x로부터 연산기록을 물려받음\n",
    "y = x * 2\n",
    "print(y)   \n",
    "# 유클리드 노름 : 벡터의 크기를 측정하는 방법(원점으로부터 벡터까지의 거리)/ 모든 요소를 각각 제곱하고 모두 더해서 결과에 제곱근(루트)를 씌운다\n",
    "y.data.norm() \n",
    "# y의 실제데이터의 크기를 확인해서 반복\n",
    "i = 0\n",
    "while y.data.norm() <1000 :\n",
    "    y = y*2\n",
    "    i += 1\n",
    "print(f'y:{y}')\n",
    "print(f'반복횟수 : {i}')\n",
    "\n",
    "# 벡터에 대한 역전파(야코비안 행렬)\n",
    "# 벡터를 벡터로 미분하면 결과는 행렬인 야코비안 행렬\n",
    "# pytorch는 전체 야코비안 행렬을 직접 계산하는 대신 야코비안 - 벡토의 곱을 계산해서 메모리를 절약\n",
    "v = torch.tensor([0.1,1.0,0.0001],dtype=torch.float)\n",
    "y.backward(v) # Y를 X에 대해 미분한 야코비안 행렬과 입력으로 제공된 벡터 V를 곱하라는 의미\n",
    "# Vt*j\n",
    "print(f'x.grad : {x.grad}')\n",
    "\n",
    "\n"
   ]
  },
  {
   "cell_type": "markdown",
   "id": "e71cd6a2",
   "metadata": {},
   "source": [
    "스칼라 백워드 Scalar Backward : 역전파로 구하는 기울기가 하나일 때\n",
    "out.backward() \n",
    "최종점수가 숫자하나  ex) 수학공부 1시간 했을 때 최종저수에 몇점의 영향을 줬는지\n",
    "최종 목표가 하나 (스칼라) 이기 때문에 각 원인(각 변수)의 기여도를 바로 게산할 수 있음\n",
    "\n",
    "벡터 백워드 Vector Backward : 기울기가 여러개 일때\n",
    "y.backward(v)\n",
    "과목별 점수가 담긴 성적표(벡터) 공부시간이 성적에 얼마나 영향을 줬는지 물어보면 애매함. 과목이 여러개이기 때문에\n",
    "가중치 또는 중요도를 알려주는 벡터가 필요  (v = torch.tensor([0.1,1.0,0.0001],dtype=torch.float)\n",
    "중요도를 반영해서 최종적으로 공부시간의 기여도를 확인"
   ]
  },
  {
   "cell_type": "code",
   "execution_count": 12,
   "id": "5e678c36",
   "metadata": {},
   "outputs": [
    {
     "data": {
      "text/plain": [
       "True"
      ]
     },
     "execution_count": 12,
     "metadata": {},
     "output_type": "execute_result"
    }
   ],
   "source": [
    "x.requires_grad"
   ]
  },
  {
   "cell_type": "code",
   "execution_count": 14,
   "id": "596cfea6",
   "metadata": {},
   "outputs": [
    {
     "name": "stdout",
     "output_type": "stream",
     "text": [
      "no_grad 내부 : False\n",
      "detach 전 True\n",
      "detach 후  False\n"
     ]
    }
   ],
   "source": [
    "# 각 학습을 진행하면서 도중에 모델의 성능 평가가 필요 - 기울기 계산을 하면 안됨\n",
    "with torch.no_grad():\n",
    "    print(f'no_grad 내부 : {(x**2).requires_grad}')\n",
    "\n",
    "# .detach() 계산그래프에서 텐서를 분리\n",
    "print(f'detach 전 {y.requires_grad}')\n",
    "y = x.detach()\n",
    "print(f'detach 후  {y.requires_grad}')"
   ]
  }
 ],
 "metadata": {
  "kernelspec": {
   "display_name": "deep",
   "language": "python",
   "name": "python3"
  },
  "language_info": {
   "codemirror_mode": {
    "name": "ipython",
    "version": 3
   },
   "file_extension": ".py",
   "mimetype": "text/x-python",
   "name": "python",
   "nbconvert_exporter": "python",
   "pygments_lexer": "ipython3",
   "version": "3.11.13"
  }
 },
 "nbformat": 4,
 "nbformat_minor": 5
}
