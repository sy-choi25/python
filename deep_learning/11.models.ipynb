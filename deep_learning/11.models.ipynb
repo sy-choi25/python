{
 "cells": [
  {
   "cell_type": "markdown",
   "id": "731e7680",
   "metadata": {},
   "source": [
    "#### DNN CNN\n",
    "- 독립적인 정보  \n",
    "- 입력(x)간의 순서나 연관성을 고려하지 않는다  \n",
    "#### 시계열 : 시간의 연속적인 흐름\n",
    "- 시계열 데이터 : 날씨, 주식, 문장 -> 순서가 중요한 데이터  \n",
    "#### RNN  \n",
    "- 순환하는 구조  \n",
    "    - 시점1 (월요일) : 맑음(x1) 정보가 RNN에 들어온다 -> RNN 날씨가 맑았음(h1) 이라는 요약본을 만듦  \n",
    "    - 시점2 (화요일) : 흐림(x2) ->  RNN에 새로운 정보 (흐림, x2) + 어제의기억(맑았음 , h1)이라는 내용을 함께 고려 \n",
    "        -> 어제는 맑았으나 오늘은 흐림이라는 새로운 h2 요약본을 생성\n",
    "    - 시점3 (수요일) : 비(x3) -> RNN에 새로운 정보 (비, x3) + 어제의 기억(어제 맑았는데 오늘 흐림 h2)\n",
    "        -> 새로운 상태 h3\n",
    "    - 반복\n",
    " "
   ]
  }
 ],
 "metadata": {
  "kernelspec": {
   "display_name": "deep",
   "language": "python",
   "name": "python3"
  },
  "language_info": {
   "name": "python",
   "version": "3.11.13"
  }
 },
 "nbformat": 4,
 "nbformat_minor": 5
}
